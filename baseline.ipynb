{
 "cells": [
  {
   "cell_type": "code",
   "execution_count": 1,
   "id": "55f8330e",
   "metadata": {
    "_cell_guid": "b1076dfc-b9ad-4769-8c92-a6c4dae69d19",
    "_uuid": "8f2839f25d086af736a60e9eeb907d3b93b6e0e5",
    "execution": {
     "iopub.execute_input": "2022-03-23T16:16:21.553656Z",
     "iopub.status.busy": "2022-03-23T16:16:21.552950Z",
     "iopub.status.idle": "2022-03-23T16:16:21.562180Z",
     "shell.execute_reply": "2022-03-23T16:16:21.562800Z",
     "shell.execute_reply.started": "2022-03-23T16:06:41.828134Z"
    },
    "papermill": {
     "duration": 0.099112,
     "end_time": "2022-03-23T16:16:21.563233",
     "exception": false,
     "start_time": "2022-03-23T16:16:21.464121",
     "status": "completed"
    },
    "tags": []
   },
   "outputs": [
    {
     "name": "stdout",
     "output_type": "stream",
     "text": [
      "/kaggle/input/titanic/train.csv\n",
      "/kaggle/input/titanic/test.csv\n",
      "/kaggle/input/titanic/gender_submission.csv\n"
     ]
    }
   ],
   "source": [
    "# This Python 3 environment comes with many helpful analytics libraries installed\n",
    "# It is defined by the kaggle/python Docker image: https://github.com/kaggle/docker-python\n",
    "# For example, here's several helpful packages to load\n",
    "\n",
    "import numpy as np # linear algebra\n",
    "import pandas as pd # data processing, CSV file I/O (e.g. pd.read_csv)\n",
    "\n",
    "# Input data files are available in the read-only \"../input/\" directory\n",
    "# For example, running this (by clicking run or pressing Shift+Enter) will list all files under the input directory\n",
    "\n",
    "import os\n",
    "for dirname, _, filenames in os.walk('/kaggle/input'):\n",
    "    for filename in filenames:\n",
    "        print(os.path.join(dirname, filename))\n",
    "\n",
    "# You can write up to 20GB to the current directory (/kaggle/working/) that gets preserved as output when you create a version using \"Save & Run All\" \n",
    "# You can also write temporary files to /kaggle/temp/, but they won't be saved outside of the current session"
   ]
  },
  {
   "cell_type": "code",
   "execution_count": 2,
   "id": "d254a889",
   "metadata": {
    "execution": {
     "iopub.execute_input": "2022-03-23T16:16:21.726518Z",
     "iopub.status.busy": "2022-03-23T16:16:21.725719Z",
     "iopub.status.idle": "2022-03-23T16:16:22.801913Z",
     "shell.execute_reply": "2022-03-23T16:16:22.800757Z",
     "shell.execute_reply.started": "2022-03-23T16:06:42.311283Z"
    },
    "papermill": {
     "duration": 1.15997,
     "end_time": "2022-03-23T16:16:22.802150",
     "exception": false,
     "start_time": "2022-03-23T16:16:21.642180",
     "status": "completed"
    },
    "tags": []
   },
   "outputs": [],
   "source": [
    "# data analysis and wrangling\n",
    "import pandas as pd\n",
    "import numpy as np\n",
    "import random as rnd\n",
    "\n",
    "# visualization\n",
    "import seaborn as sns\n",
    "import matplotlib.pyplot as plt\n",
    "%matplotlib inline"
   ]
  },
  {
   "cell_type": "code",
   "execution_count": 3,
   "id": "660bd31a",
   "metadata": {
    "execution": {
     "iopub.execute_input": "2022-03-23T16:16:22.962389Z",
     "iopub.status.busy": "2022-03-23T16:16:22.961306Z",
     "iopub.status.idle": "2022-03-23T16:16:22.987210Z",
     "shell.execute_reply": "2022-03-23T16:16:22.987751Z",
     "shell.execute_reply.started": "2022-03-23T16:06:42.335262Z"
    },
    "papermill": {
     "duration": 0.108517,
     "end_time": "2022-03-23T16:16:22.987944",
     "exception": false,
     "start_time": "2022-03-23T16:16:22.879427",
     "status": "completed"
    },
    "tags": []
   },
   "outputs": [],
   "source": [
    "train_df = pd.read_csv('../input/titanic/train.csv')\n",
    "test_df = pd.read_csv('../input/titanic/test.csv')"
   ]
  },
  {
   "cell_type": "code",
   "execution_count": 4,
   "id": "e57184b1",
   "metadata": {
    "execution": {
     "iopub.execute_input": "2022-03-23T16:16:23.147321Z",
     "iopub.status.busy": "2022-03-23T16:16:23.146362Z",
     "iopub.status.idle": "2022-03-23T16:16:23.154764Z",
     "shell.execute_reply": "2022-03-23T16:16:23.155269Z",
     "shell.execute_reply.started": "2022-03-23T16:06:42.365143Z"
    },
    "papermill": {
     "duration": 0.088794,
     "end_time": "2022-03-23T16:16:23.155457",
     "exception": false,
     "start_time": "2022-03-23T16:16:23.066663",
     "status": "completed"
    },
    "tags": []
   },
   "outputs": [],
   "source": [
    "pass_id = test_df['PassengerId']"
   ]
  },
  {
   "cell_type": "markdown",
   "id": "e9f39d83",
   "metadata": {
    "papermill": {
     "duration": 0.076434,
     "end_time": "2022-03-23T16:16:23.308517",
     "exception": false,
     "start_time": "2022-03-23T16:16:23.232083",
     "status": "completed"
    },
    "tags": []
   },
   "source": [
    "# Invastigate the Data"
   ]
  },
  {
   "cell_type": "code",
   "execution_count": 5,
   "id": "3d146abc",
   "metadata": {
    "execution": {
     "iopub.execute_input": "2022-03-23T16:16:23.468287Z",
     "iopub.status.busy": "2022-03-23T16:16:23.467247Z",
     "iopub.status.idle": "2022-03-23T16:16:23.500513Z",
     "shell.execute_reply": "2022-03-23T16:16:23.501085Z",
     "shell.execute_reply.started": "2022-03-23T16:06:42.425984Z"
    },
    "papermill": {
     "duration": 0.115274,
     "end_time": "2022-03-23T16:16:23.501270",
     "exception": false,
     "start_time": "2022-03-23T16:16:23.385996",
     "status": "completed"
    },
    "tags": []
   },
   "outputs": [
    {
     "name": "stdout",
     "output_type": "stream",
     "text": [
      "<class 'pandas.core.frame.DataFrame'>\n",
      "RangeIndex: 891 entries, 0 to 890\n",
      "Data columns (total 12 columns):\n",
      " #   Column       Non-Null Count  Dtype  \n",
      "---  ------       --------------  -----  \n",
      " 0   PassengerId  891 non-null    int64  \n",
      " 1   Survived     891 non-null    int64  \n",
      " 2   Pclass       891 non-null    int64  \n",
      " 3   Name         891 non-null    object \n",
      " 4   Sex          891 non-null    object \n",
      " 5   Age          714 non-null    float64\n",
      " 6   SibSp        891 non-null    int64  \n",
      " 7   Parch        891 non-null    int64  \n",
      " 8   Ticket       891 non-null    object \n",
      " 9   Fare         891 non-null    float64\n",
      " 10  Cabin        204 non-null    object \n",
      " 11  Embarked     889 non-null    object \n",
      "dtypes: float64(2), int64(5), object(5)\n",
      "memory usage: 83.7+ KB\n",
      "None\n",
      "---------------\n",
      "<class 'pandas.core.frame.DataFrame'>\n",
      "RangeIndex: 418 entries, 0 to 417\n",
      "Data columns (total 11 columns):\n",
      " #   Column       Non-Null Count  Dtype  \n",
      "---  ------       --------------  -----  \n",
      " 0   PassengerId  418 non-null    int64  \n",
      " 1   Pclass       418 non-null    int64  \n",
      " 2   Name         418 non-null    object \n",
      " 3   Sex          418 non-null    object \n",
      " 4   Age          332 non-null    float64\n",
      " 5   SibSp        418 non-null    int64  \n",
      " 6   Parch        418 non-null    int64  \n",
      " 7   Ticket       418 non-null    object \n",
      " 8   Fare         417 non-null    float64\n",
      " 9   Cabin        91 non-null     object \n",
      " 10  Embarked     418 non-null    object \n",
      "dtypes: float64(2), int64(4), object(5)\n",
      "memory usage: 36.0+ KB\n",
      "None\n"
     ]
    }
   ],
   "source": [
    "print(train_df.info())\n",
    "print('---------------')\n",
    "print(test_df.info())"
   ]
  },
  {
   "cell_type": "markdown",
   "id": "680f4280",
   "metadata": {
    "papermill": {
     "duration": 0.077204,
     "end_time": "2022-03-23T16:16:23.655960",
     "exception": false,
     "start_time": "2022-03-23T16:16:23.578756",
     "status": "completed"
    },
    "tags": []
   },
   "source": [
    "- Age, Cabin, Fare have nulls in test \n",
    "- Age, Cabin, Embarked have nulls in train\n"
   ]
  },
  {
   "cell_type": "code",
   "execution_count": 6,
   "id": "a94b6965",
   "metadata": {
    "execution": {
     "iopub.execute_input": "2022-03-23T16:16:23.818769Z",
     "iopub.status.busy": "2022-03-23T16:16:23.818079Z",
     "iopub.status.idle": "2022-03-23T16:16:23.840278Z",
     "shell.execute_reply": "2022-03-23T16:16:23.840818Z",
     "shell.execute_reply.started": "2022-03-23T16:06:42.490997Z"
    },
    "papermill": {
     "duration": 0.106361,
     "end_time": "2022-03-23T16:16:23.840988",
     "exception": false,
     "start_time": "2022-03-23T16:16:23.734627",
     "status": "completed"
    },
    "tags": []
   },
   "outputs": [
    {
     "data": {
      "text/html": [
       "<div>\n",
       "<style scoped>\n",
       "    .dataframe tbody tr th:only-of-type {\n",
       "        vertical-align: middle;\n",
       "    }\n",
       "\n",
       "    .dataframe tbody tr th {\n",
       "        vertical-align: top;\n",
       "    }\n",
       "\n",
       "    .dataframe thead th {\n",
       "        text-align: right;\n",
       "    }\n",
       "</style>\n",
       "<table border=\"1\" class=\"dataframe\">\n",
       "  <thead>\n",
       "    <tr style=\"text-align: right;\">\n",
       "      <th></th>\n",
       "      <th>Total</th>\n",
       "      <th>Percent</th>\n",
       "    </tr>\n",
       "  </thead>\n",
       "  <tbody>\n",
       "    <tr>\n",
       "      <th>Cabin</th>\n",
       "      <td>687</td>\n",
       "      <td>0.771044</td>\n",
       "    </tr>\n",
       "    <tr>\n",
       "      <th>Age</th>\n",
       "      <td>177</td>\n",
       "      <td>0.198653</td>\n",
       "    </tr>\n",
       "    <tr>\n",
       "      <th>Embarked</th>\n",
       "      <td>2</td>\n",
       "      <td>0.002245</td>\n",
       "    </tr>\n",
       "    <tr>\n",
       "      <th>PassengerId</th>\n",
       "      <td>0</td>\n",
       "      <td>0.000000</td>\n",
       "    </tr>\n",
       "    <tr>\n",
       "      <th>Survived</th>\n",
       "      <td>0</td>\n",
       "      <td>0.000000</td>\n",
       "    </tr>\n",
       "    <tr>\n",
       "      <th>Pclass</th>\n",
       "      <td>0</td>\n",
       "      <td>0.000000</td>\n",
       "    </tr>\n",
       "    <tr>\n",
       "      <th>Name</th>\n",
       "      <td>0</td>\n",
       "      <td>0.000000</td>\n",
       "    </tr>\n",
       "    <tr>\n",
       "      <th>Sex</th>\n",
       "      <td>0</td>\n",
       "      <td>0.000000</td>\n",
       "    </tr>\n",
       "    <tr>\n",
       "      <th>SibSp</th>\n",
       "      <td>0</td>\n",
       "      <td>0.000000</td>\n",
       "    </tr>\n",
       "    <tr>\n",
       "      <th>Parch</th>\n",
       "      <td>0</td>\n",
       "      <td>0.000000</td>\n",
       "    </tr>\n",
       "    <tr>\n",
       "      <th>Ticket</th>\n",
       "      <td>0</td>\n",
       "      <td>0.000000</td>\n",
       "    </tr>\n",
       "    <tr>\n",
       "      <th>Fare</th>\n",
       "      <td>0</td>\n",
       "      <td>0.000000</td>\n",
       "    </tr>\n",
       "  </tbody>\n",
       "</table>\n",
       "</div>"
      ],
      "text/plain": [
       "             Total   Percent\n",
       "Cabin          687  0.771044\n",
       "Age            177  0.198653\n",
       "Embarked         2  0.002245\n",
       "PassengerId      0  0.000000\n",
       "Survived         0  0.000000\n",
       "Pclass           0  0.000000\n",
       "Name             0  0.000000\n",
       "Sex              0  0.000000\n",
       "SibSp            0  0.000000\n",
       "Parch            0  0.000000\n",
       "Ticket           0  0.000000\n",
       "Fare             0  0.000000"
      ]
     },
     "execution_count": 6,
     "metadata": {},
     "output_type": "execute_result"
    }
   ],
   "source": [
    "#checking nan values percentage\n",
    "total = train_df.isnull().sum().sort_values(ascending=False)\n",
    "percent = (train_df.isnull().sum()/train_df.isnull().count()).sort_values(ascending=False)\n",
    "missing_data = pd.concat([total, percent], axis=1, keys=['Total', 'Percent'])\n",
    "missing_data.head(20)"
   ]
  },
  {
   "cell_type": "markdown",
   "id": "724af478",
   "metadata": {
    "execution": {
     "iopub.execute_input": "2022-03-18T17:16:57.09241Z",
     "iopub.status.busy": "2022-03-18T17:16:57.091912Z",
     "iopub.status.idle": "2022-03-18T17:16:57.096451Z",
     "shell.execute_reply": "2022-03-18T17:16:57.095218Z",
     "shell.execute_reply.started": "2022-03-18T17:16:57.092377Z"
    },
    "papermill": {
     "duration": 0.07843,
     "end_time": "2022-03-23T16:16:23.997781",
     "exception": false,
     "start_time": "2022-03-23T16:16:23.919351",
     "status": "completed"
    },
    "tags": []
   },
   "source": [
    "# Is the ticket related to class or sibiling "
   ]
  },
  {
   "cell_type": "code",
   "execution_count": 7,
   "id": "d8a883af",
   "metadata": {
    "execution": {
     "iopub.execute_input": "2022-03-23T16:16:24.159295Z",
     "iopub.status.busy": "2022-03-23T16:16:24.158567Z",
     "iopub.status.idle": "2022-03-23T16:16:24.167723Z",
     "shell.execute_reply": "2022-03-23T16:16:24.167107Z",
     "shell.execute_reply.started": "2022-03-23T16:06:42.546930Z"
    },
    "papermill": {
     "duration": 0.089902,
     "end_time": "2022-03-23T16:16:24.167866",
     "exception": false,
     "start_time": "2022-03-23T16:16:24.077964",
     "status": "completed"
    },
    "tags": []
   },
   "outputs": [
    {
     "data": {
      "text/plain": [
       "347082      7\n",
       "CA. 2343    7\n",
       "1601        7\n",
       "3101295     6\n",
       "CA 2144     6\n",
       "           ..\n",
       "9234        1\n",
       "19988       1\n",
       "2693        1\n",
       "PC 17612    1\n",
       "370376      1\n",
       "Name: Ticket, Length: 681, dtype: int64"
      ]
     },
     "execution_count": 7,
     "metadata": {},
     "output_type": "execute_result"
    }
   ],
   "source": [
    "train_df['Ticket'].value_counts()"
   ]
  },
  {
   "cell_type": "code",
   "execution_count": 8,
   "id": "80225f83",
   "metadata": {
    "execution": {
     "iopub.execute_input": "2022-03-23T16:16:24.333867Z",
     "iopub.status.busy": "2022-03-23T16:16:24.333183Z",
     "iopub.status.idle": "2022-03-23T16:16:24.347611Z",
     "shell.execute_reply": "2022-03-23T16:16:24.348193Z",
     "shell.execute_reply.started": "2022-03-23T16:06:42.579711Z"
    },
    "papermill": {
     "duration": 0.101588,
     "end_time": "2022-03-23T16:16:24.348397",
     "exception": false,
     "start_time": "2022-03-23T16:16:24.246809",
     "status": "completed"
    },
    "tags": []
   },
   "outputs": [
    {
     "data": {
      "text/html": [
       "<div>\n",
       "<style scoped>\n",
       "    .dataframe tbody tr th:only-of-type {\n",
       "        vertical-align: middle;\n",
       "    }\n",
       "\n",
       "    .dataframe tbody tr th {\n",
       "        vertical-align: top;\n",
       "    }\n",
       "\n",
       "    .dataframe thead th {\n",
       "        text-align: right;\n",
       "    }\n",
       "</style>\n",
       "<table border=\"1\" class=\"dataframe\">\n",
       "  <thead>\n",
       "    <tr style=\"text-align: right;\">\n",
       "      <th></th>\n",
       "      <th>PassengerId</th>\n",
       "      <th>Survived</th>\n",
       "      <th>Pclass</th>\n",
       "      <th>Name</th>\n",
       "      <th>Sex</th>\n",
       "      <th>Age</th>\n",
       "      <th>SibSp</th>\n",
       "      <th>Parch</th>\n",
       "      <th>Ticket</th>\n",
       "      <th>Fare</th>\n",
       "      <th>Cabin</th>\n",
       "      <th>Embarked</th>\n",
       "    </tr>\n",
       "  </thead>\n",
       "  <tbody>\n",
       "    <tr>\n",
       "      <th>13</th>\n",
       "      <td>14</td>\n",
       "      <td>0</td>\n",
       "      <td>3</td>\n",
       "      <td>Andersson, Mr. Anders Johan</td>\n",
       "      <td>male</td>\n",
       "      <td>39.0</td>\n",
       "      <td>1</td>\n",
       "      <td>5</td>\n",
       "      <td>347082</td>\n",
       "      <td>31.275</td>\n",
       "      <td>NaN</td>\n",
       "      <td>S</td>\n",
       "    </tr>\n",
       "    <tr>\n",
       "      <th>119</th>\n",
       "      <td>120</td>\n",
       "      <td>0</td>\n",
       "      <td>3</td>\n",
       "      <td>Andersson, Miss. Ellis Anna Maria</td>\n",
       "      <td>female</td>\n",
       "      <td>2.0</td>\n",
       "      <td>4</td>\n",
       "      <td>2</td>\n",
       "      <td>347082</td>\n",
       "      <td>31.275</td>\n",
       "      <td>NaN</td>\n",
       "      <td>S</td>\n",
       "    </tr>\n",
       "    <tr>\n",
       "      <th>541</th>\n",
       "      <td>542</td>\n",
       "      <td>0</td>\n",
       "      <td>3</td>\n",
       "      <td>Andersson, Miss. Ingeborg Constanzia</td>\n",
       "      <td>female</td>\n",
       "      <td>9.0</td>\n",
       "      <td>4</td>\n",
       "      <td>2</td>\n",
       "      <td>347082</td>\n",
       "      <td>31.275</td>\n",
       "      <td>NaN</td>\n",
       "      <td>S</td>\n",
       "    </tr>\n",
       "    <tr>\n",
       "      <th>542</th>\n",
       "      <td>543</td>\n",
       "      <td>0</td>\n",
       "      <td>3</td>\n",
       "      <td>Andersson, Miss. Sigrid Elisabeth</td>\n",
       "      <td>female</td>\n",
       "      <td>11.0</td>\n",
       "      <td>4</td>\n",
       "      <td>2</td>\n",
       "      <td>347082</td>\n",
       "      <td>31.275</td>\n",
       "      <td>NaN</td>\n",
       "      <td>S</td>\n",
       "    </tr>\n",
       "    <tr>\n",
       "      <th>610</th>\n",
       "      <td>611</td>\n",
       "      <td>0</td>\n",
       "      <td>3</td>\n",
       "      <td>Andersson, Mrs. Anders Johan (Alfrida Konstant...</td>\n",
       "      <td>female</td>\n",
       "      <td>39.0</td>\n",
       "      <td>1</td>\n",
       "      <td>5</td>\n",
       "      <td>347082</td>\n",
       "      <td>31.275</td>\n",
       "      <td>NaN</td>\n",
       "      <td>S</td>\n",
       "    </tr>\n",
       "    <tr>\n",
       "      <th>813</th>\n",
       "      <td>814</td>\n",
       "      <td>0</td>\n",
       "      <td>3</td>\n",
       "      <td>Andersson, Miss. Ebba Iris Alfrida</td>\n",
       "      <td>female</td>\n",
       "      <td>6.0</td>\n",
       "      <td>4</td>\n",
       "      <td>2</td>\n",
       "      <td>347082</td>\n",
       "      <td>31.275</td>\n",
       "      <td>NaN</td>\n",
       "      <td>S</td>\n",
       "    </tr>\n",
       "    <tr>\n",
       "      <th>850</th>\n",
       "      <td>851</td>\n",
       "      <td>0</td>\n",
       "      <td>3</td>\n",
       "      <td>Andersson, Master. Sigvard Harald Elias</td>\n",
       "      <td>male</td>\n",
       "      <td>4.0</td>\n",
       "      <td>4</td>\n",
       "      <td>2</td>\n",
       "      <td>347082</td>\n",
       "      <td>31.275</td>\n",
       "      <td>NaN</td>\n",
       "      <td>S</td>\n",
       "    </tr>\n",
       "  </tbody>\n",
       "</table>\n",
       "</div>"
      ],
      "text/plain": [
       "     PassengerId  Survived  Pclass  \\\n",
       "13            14         0       3   \n",
       "119          120         0       3   \n",
       "541          542         0       3   \n",
       "542          543         0       3   \n",
       "610          611         0       3   \n",
       "813          814         0       3   \n",
       "850          851         0       3   \n",
       "\n",
       "                                                  Name     Sex   Age  SibSp  \\\n",
       "13                         Andersson, Mr. Anders Johan    male  39.0      1   \n",
       "119                  Andersson, Miss. Ellis Anna Maria  female   2.0      4   \n",
       "541               Andersson, Miss. Ingeborg Constanzia  female   9.0      4   \n",
       "542                  Andersson, Miss. Sigrid Elisabeth  female  11.0      4   \n",
       "610  Andersson, Mrs. Anders Johan (Alfrida Konstant...  female  39.0      1   \n",
       "813                 Andersson, Miss. Ebba Iris Alfrida  female   6.0      4   \n",
       "850            Andersson, Master. Sigvard Harald Elias    male   4.0      4   \n",
       "\n",
       "     Parch  Ticket    Fare Cabin Embarked  \n",
       "13       5  347082  31.275   NaN        S  \n",
       "119      2  347082  31.275   NaN        S  \n",
       "541      2  347082  31.275   NaN        S  \n",
       "542      2  347082  31.275   NaN        S  \n",
       "610      5  347082  31.275   NaN        S  \n",
       "813      2  347082  31.275   NaN        S  \n",
       "850      2  347082  31.275   NaN        S  "
      ]
     },
     "execution_count": 8,
     "metadata": {},
     "output_type": "execute_result"
    }
   ],
   "source": [
    "train_df[train_df['Ticket'] == '347082']"
   ]
  },
  {
   "cell_type": "markdown",
   "id": "6984adcb",
   "metadata": {
    "papermill": {
     "duration": 0.079413,
     "end_time": "2022-03-23T16:16:24.508153",
     "exception": false,
     "start_time": "2022-03-23T16:16:24.428740",
     "status": "completed"
    },
    "tags": []
   },
   "source": [
    "# from the name we can figure that every family have the same ticket number \n",
    "# and most likely will have same cabin and this could help us fill the cabin feature"
   ]
  },
  {
   "cell_type": "code",
   "execution_count": 9,
   "id": "81225666",
   "metadata": {
    "execution": {
     "iopub.execute_input": "2022-03-23T16:16:24.670155Z",
     "iopub.status.busy": "2022-03-23T16:16:24.669419Z",
     "iopub.status.idle": "2022-03-23T16:16:24.698627Z",
     "shell.execute_reply": "2022-03-23T16:16:24.699306Z",
     "shell.execute_reply.started": "2022-03-23T16:06:42.657778Z"
    },
    "papermill": {
     "duration": 0.112091,
     "end_time": "2022-03-23T16:16:24.699487",
     "exception": false,
     "start_time": "2022-03-23T16:16:24.587396",
     "status": "completed"
    },
    "tags": []
   },
   "outputs": [
    {
     "data": {
      "text/html": [
       "<div>\n",
       "<style scoped>\n",
       "    .dataframe tbody tr th:only-of-type {\n",
       "        vertical-align: middle;\n",
       "    }\n",
       "\n",
       "    .dataframe tbody tr th {\n",
       "        vertical-align: top;\n",
       "    }\n",
       "\n",
       "    .dataframe thead th {\n",
       "        text-align: right;\n",
       "    }\n",
       "</style>\n",
       "<table border=\"1\" class=\"dataframe\">\n",
       "  <thead>\n",
       "    <tr style=\"text-align: right;\">\n",
       "      <th></th>\n",
       "      <th>PassengerId</th>\n",
       "      <th>Survived</th>\n",
       "      <th>Pclass</th>\n",
       "      <th>Age</th>\n",
       "      <th>SibSp</th>\n",
       "      <th>Parch</th>\n",
       "      <th>Fare</th>\n",
       "    </tr>\n",
       "  </thead>\n",
       "  <tbody>\n",
       "    <tr>\n",
       "      <th>count</th>\n",
       "      <td>891.000000</td>\n",
       "      <td>891.000000</td>\n",
       "      <td>891.000000</td>\n",
       "      <td>714.000000</td>\n",
       "      <td>891.000000</td>\n",
       "      <td>891.000000</td>\n",
       "      <td>891.000000</td>\n",
       "    </tr>\n",
       "    <tr>\n",
       "      <th>mean</th>\n",
       "      <td>446.000000</td>\n",
       "      <td>0.383838</td>\n",
       "      <td>2.308642</td>\n",
       "      <td>29.699118</td>\n",
       "      <td>0.523008</td>\n",
       "      <td>0.381594</td>\n",
       "      <td>32.204208</td>\n",
       "    </tr>\n",
       "    <tr>\n",
       "      <th>std</th>\n",
       "      <td>257.353842</td>\n",
       "      <td>0.486592</td>\n",
       "      <td>0.836071</td>\n",
       "      <td>14.526497</td>\n",
       "      <td>1.102743</td>\n",
       "      <td>0.806057</td>\n",
       "      <td>49.693429</td>\n",
       "    </tr>\n",
       "    <tr>\n",
       "      <th>min</th>\n",
       "      <td>1.000000</td>\n",
       "      <td>0.000000</td>\n",
       "      <td>1.000000</td>\n",
       "      <td>0.420000</td>\n",
       "      <td>0.000000</td>\n",
       "      <td>0.000000</td>\n",
       "      <td>0.000000</td>\n",
       "    </tr>\n",
       "    <tr>\n",
       "      <th>25%</th>\n",
       "      <td>223.500000</td>\n",
       "      <td>0.000000</td>\n",
       "      <td>2.000000</td>\n",
       "      <td>20.125000</td>\n",
       "      <td>0.000000</td>\n",
       "      <td>0.000000</td>\n",
       "      <td>7.910400</td>\n",
       "    </tr>\n",
       "    <tr>\n",
       "      <th>50%</th>\n",
       "      <td>446.000000</td>\n",
       "      <td>0.000000</td>\n",
       "      <td>3.000000</td>\n",
       "      <td>28.000000</td>\n",
       "      <td>0.000000</td>\n",
       "      <td>0.000000</td>\n",
       "      <td>14.454200</td>\n",
       "    </tr>\n",
       "    <tr>\n",
       "      <th>75%</th>\n",
       "      <td>668.500000</td>\n",
       "      <td>1.000000</td>\n",
       "      <td>3.000000</td>\n",
       "      <td>38.000000</td>\n",
       "      <td>1.000000</td>\n",
       "      <td>0.000000</td>\n",
       "      <td>31.000000</td>\n",
       "    </tr>\n",
       "    <tr>\n",
       "      <th>max</th>\n",
       "      <td>891.000000</td>\n",
       "      <td>1.000000</td>\n",
       "      <td>3.000000</td>\n",
       "      <td>80.000000</td>\n",
       "      <td>8.000000</td>\n",
       "      <td>6.000000</td>\n",
       "      <td>512.329200</td>\n",
       "    </tr>\n",
       "  </tbody>\n",
       "</table>\n",
       "</div>"
      ],
      "text/plain": [
       "       PassengerId    Survived      Pclass         Age       SibSp  \\\n",
       "count   891.000000  891.000000  891.000000  714.000000  891.000000   \n",
       "mean    446.000000    0.383838    2.308642   29.699118    0.523008   \n",
       "std     257.353842    0.486592    0.836071   14.526497    1.102743   \n",
       "min       1.000000    0.000000    1.000000    0.420000    0.000000   \n",
       "25%     223.500000    0.000000    2.000000   20.125000    0.000000   \n",
       "50%     446.000000    0.000000    3.000000   28.000000    0.000000   \n",
       "75%     668.500000    1.000000    3.000000   38.000000    1.000000   \n",
       "max     891.000000    1.000000    3.000000   80.000000    8.000000   \n",
       "\n",
       "            Parch        Fare  \n",
       "count  891.000000  891.000000  \n",
       "mean     0.381594   32.204208  \n",
       "std      0.806057   49.693429  \n",
       "min      0.000000    0.000000  \n",
       "25%      0.000000    7.910400  \n",
       "50%      0.000000   14.454200  \n",
       "75%      0.000000   31.000000  \n",
       "max      6.000000  512.329200  "
      ]
     },
     "execution_count": 9,
     "metadata": {},
     "output_type": "execute_result"
    }
   ],
   "source": [
    "train_df.describe()"
   ]
  },
  {
   "cell_type": "markdown",
   "id": "cc16dfb9",
   "metadata": {
    "papermill": {
     "duration": 0.0794,
     "end_time": "2022-03-23T16:16:24.860830",
     "exception": false,
     "start_time": "2022-03-23T16:16:24.781430",
     "status": "completed"
    },
    "tags": []
   },
   "source": [
    "- 38 % survived \n",
    "- most of passengers are youth (30 years old)\n"
   ]
  },
  {
   "cell_type": "code",
   "execution_count": 10,
   "id": "dada1d75",
   "metadata": {
    "execution": {
     "iopub.execute_input": "2022-03-23T16:16:25.026858Z",
     "iopub.status.busy": "2022-03-23T16:16:25.026224Z",
     "iopub.status.idle": "2022-03-23T16:16:25.047642Z",
     "shell.execute_reply": "2022-03-23T16:16:25.046763Z",
     "shell.execute_reply.started": "2022-03-23T16:06:42.720914Z"
    },
    "papermill": {
     "duration": 0.105821,
     "end_time": "2022-03-23T16:16:25.047813",
     "exception": false,
     "start_time": "2022-03-23T16:16:24.941992",
     "status": "completed"
    },
    "tags": []
   },
   "outputs": [
    {
     "data": {
      "text/html": [
       "<div>\n",
       "<style scoped>\n",
       "    .dataframe tbody tr th:only-of-type {\n",
       "        vertical-align: middle;\n",
       "    }\n",
       "\n",
       "    .dataframe tbody tr th {\n",
       "        vertical-align: top;\n",
       "    }\n",
       "\n",
       "    .dataframe thead th {\n",
       "        text-align: right;\n",
       "    }\n",
       "</style>\n",
       "<table border=\"1\" class=\"dataframe\">\n",
       "  <thead>\n",
       "    <tr style=\"text-align: right;\">\n",
       "      <th></th>\n",
       "      <th>Name</th>\n",
       "      <th>Sex</th>\n",
       "      <th>Ticket</th>\n",
       "      <th>Cabin</th>\n",
       "      <th>Embarked</th>\n",
       "    </tr>\n",
       "  </thead>\n",
       "  <tbody>\n",
       "    <tr>\n",
       "      <th>count</th>\n",
       "      <td>891</td>\n",
       "      <td>891</td>\n",
       "      <td>891</td>\n",
       "      <td>204</td>\n",
       "      <td>889</td>\n",
       "    </tr>\n",
       "    <tr>\n",
       "      <th>unique</th>\n",
       "      <td>891</td>\n",
       "      <td>2</td>\n",
       "      <td>681</td>\n",
       "      <td>147</td>\n",
       "      <td>3</td>\n",
       "    </tr>\n",
       "    <tr>\n",
       "      <th>top</th>\n",
       "      <td>Braund, Mr. Owen Harris</td>\n",
       "      <td>male</td>\n",
       "      <td>347082</td>\n",
       "      <td>B96 B98</td>\n",
       "      <td>S</td>\n",
       "    </tr>\n",
       "    <tr>\n",
       "      <th>freq</th>\n",
       "      <td>1</td>\n",
       "      <td>577</td>\n",
       "      <td>7</td>\n",
       "      <td>4</td>\n",
       "      <td>644</td>\n",
       "    </tr>\n",
       "  </tbody>\n",
       "</table>\n",
       "</div>"
      ],
      "text/plain": [
       "                           Name   Sex  Ticket    Cabin Embarked\n",
       "count                       891   891     891      204      889\n",
       "unique                      891     2     681      147        3\n",
       "top     Braund, Mr. Owen Harris  male  347082  B96 B98        S\n",
       "freq                          1   577       7        4      644"
      ]
     },
     "execution_count": 10,
     "metadata": {},
     "output_type": "execute_result"
    }
   ],
   "source": [
    "train_df.describe(include=['O'])"
   ]
  },
  {
   "cell_type": "code",
   "execution_count": 11,
   "id": "a6b7d17f",
   "metadata": {
    "execution": {
     "iopub.execute_input": "2022-03-23T16:16:25.216112Z",
     "iopub.status.busy": "2022-03-23T16:16:25.215176Z",
     "iopub.status.idle": "2022-03-23T16:16:25.217897Z",
     "shell.execute_reply": "2022-03-23T16:16:25.218544Z",
     "shell.execute_reply.started": "2022-03-23T16:06:42.744643Z"
    },
    "papermill": {
     "duration": 0.089509,
     "end_time": "2022-03-23T16:16:25.218714",
     "exception": false,
     "start_time": "2022-03-23T16:16:25.129205",
     "status": "completed"
    },
    "tags": []
   },
   "outputs": [
    {
     "data": {
      "text/plain": [
       "0.6475869809203143"
      ]
     },
     "execution_count": 11,
     "metadata": {},
     "output_type": "execute_result"
    }
   ],
   "source": [
    "male_perc = 577/891\n",
    "male_perc"
   ]
  },
  {
   "cell_type": "markdown",
   "id": "0c4c52e2",
   "metadata": {
    "execution": {
     "iopub.execute_input": "2022-03-18T17:34:52.756966Z",
     "iopub.status.busy": "2022-03-18T17:34:52.756666Z",
     "iopub.status.idle": "2022-03-18T17:34:52.763049Z",
     "shell.execute_reply": "2022-03-18T17:34:52.762257Z",
     "shell.execute_reply.started": "2022-03-18T17:34:52.756933Z"
    },
    "papermill": {
     "duration": 0.080925,
     "end_time": "2022-03-23T16:16:25.380520",
     "exception": false,
     "start_time": "2022-03-23T16:16:25.299595",
     "status": "completed"
    },
    "tags": []
   },
   "source": [
    "- So male are 64% of the passengers\n",
    "- it seems that Cabin have duplicates, indicates that every family stay in the same cabin \n",
    "- also Ticket have duplicates as we see that family have same Ticket number "
   ]
  },
  {
   "cell_type": "markdown",
   "id": "5ab56077",
   "metadata": {
    "papermill": {
     "duration": 0.080383,
     "end_time": "2022-03-23T16:16:25.543700",
     "exception": false,
     "start_time": "2022-03-23T16:16:25.463317",
     "status": "completed"
    },
    "tags": []
   },
   "source": [
    "I want to know how well does each feature correlate with Survival. We want to do this early in our project and match these quick correlations with modelled correlations later in the project."
   ]
  },
  {
   "cell_type": "markdown",
   "id": "4c85b453",
   "metadata": {
    "papermill": {
     "duration": 0.081149,
     "end_time": "2022-03-23T16:16:25.705379",
     "exception": false,
     "start_time": "2022-03-23T16:16:25.624230",
     "status": "completed"
    },
    "tags": []
   },
   "source": [
    "We may also add to our assumptions based on the problem description noted earlier.\n",
    "\n",
    "- Women (Sex=female) were more likely to have survived.\n",
    "- Children (Age<2) were more likely to have survived.\n",
    "- The upper-class passengers (Pclass=1) were more likely to have survived."
   ]
  },
  {
   "cell_type": "code",
   "execution_count": 12,
   "id": "e4146c8a",
   "metadata": {
    "execution": {
     "iopub.execute_input": "2022-03-23T16:16:25.873037Z",
     "iopub.status.busy": "2022-03-23T16:16:25.872380Z",
     "iopub.status.idle": "2022-03-23T16:16:25.887833Z",
     "shell.execute_reply": "2022-03-23T16:16:25.887297Z",
     "shell.execute_reply.started": "2022-03-23T16:06:42.847150Z"
    },
    "papermill": {
     "duration": 0.100259,
     "end_time": "2022-03-23T16:16:25.887984",
     "exception": false,
     "start_time": "2022-03-23T16:16:25.787725",
     "status": "completed"
    },
    "tags": []
   },
   "outputs": [
    {
     "data": {
      "text/html": [
       "<div>\n",
       "<style scoped>\n",
       "    .dataframe tbody tr th:only-of-type {\n",
       "        vertical-align: middle;\n",
       "    }\n",
       "\n",
       "    .dataframe tbody tr th {\n",
       "        vertical-align: top;\n",
       "    }\n",
       "\n",
       "    .dataframe thead th {\n",
       "        text-align: right;\n",
       "    }\n",
       "</style>\n",
       "<table border=\"1\" class=\"dataframe\">\n",
       "  <thead>\n",
       "    <tr style=\"text-align: right;\">\n",
       "      <th></th>\n",
       "      <th>Sex</th>\n",
       "      <th>Survived</th>\n",
       "    </tr>\n",
       "  </thead>\n",
       "  <tbody>\n",
       "    <tr>\n",
       "      <th>0</th>\n",
       "      <td>female</td>\n",
       "      <td>0.742038</td>\n",
       "    </tr>\n",
       "    <tr>\n",
       "      <th>1</th>\n",
       "      <td>male</td>\n",
       "      <td>0.188908</td>\n",
       "    </tr>\n",
       "  </tbody>\n",
       "</table>\n",
       "</div>"
      ],
      "text/plain": [
       "      Sex  Survived\n",
       "0  female  0.742038\n",
       "1    male  0.188908"
      ]
     },
     "execution_count": 12,
     "metadata": {},
     "output_type": "execute_result"
    }
   ],
   "source": [
    "# I'll make sure of the competition assumption\n",
    "train_df[['Sex', 'Survived']].groupby(['Sex'], as_index=False).mean().sort_values(by='Survived', ascending=False)"
   ]
  },
  {
   "cell_type": "code",
   "execution_count": 13,
   "id": "e503534f",
   "metadata": {
    "execution": {
     "iopub.execute_input": "2022-03-23T16:16:26.060598Z",
     "iopub.status.busy": "2022-03-23T16:16:26.059861Z",
     "iopub.status.idle": "2022-03-23T16:16:26.067270Z",
     "shell.execute_reply": "2022-03-23T16:16:26.067765Z",
     "shell.execute_reply.started": "2022-03-23T16:06:42.901571Z"
    },
    "papermill": {
     "duration": 0.098493,
     "end_time": "2022-03-23T16:16:26.067936",
     "exception": false,
     "start_time": "2022-03-23T16:16:25.969443",
     "status": "completed"
    },
    "tags": []
   },
   "outputs": [
    {
     "data": {
      "text/html": [
       "<div>\n",
       "<style scoped>\n",
       "    .dataframe tbody tr th:only-of-type {\n",
       "        vertical-align: middle;\n",
       "    }\n",
       "\n",
       "    .dataframe tbody tr th {\n",
       "        vertical-align: top;\n",
       "    }\n",
       "\n",
       "    .dataframe thead th {\n",
       "        text-align: right;\n",
       "    }\n",
       "</style>\n",
       "<table border=\"1\" class=\"dataframe\">\n",
       "  <thead>\n",
       "    <tr style=\"text-align: right;\">\n",
       "      <th></th>\n",
       "      <th>Pclass</th>\n",
       "      <th>Survived</th>\n",
       "    </tr>\n",
       "  </thead>\n",
       "  <tbody>\n",
       "    <tr>\n",
       "      <th>0</th>\n",
       "      <td>1</td>\n",
       "      <td>0.629630</td>\n",
       "    </tr>\n",
       "    <tr>\n",
       "      <th>1</th>\n",
       "      <td>2</td>\n",
       "      <td>0.472826</td>\n",
       "    </tr>\n",
       "    <tr>\n",
       "      <th>2</th>\n",
       "      <td>3</td>\n",
       "      <td>0.242363</td>\n",
       "    </tr>\n",
       "  </tbody>\n",
       "</table>\n",
       "</div>"
      ],
      "text/plain": [
       "   Pclass  Survived\n",
       "0       1  0.629630\n",
       "1       2  0.472826\n",
       "2       3  0.242363"
      ]
     },
     "execution_count": 13,
     "metadata": {},
     "output_type": "execute_result"
    }
   ],
   "source": [
    "# I'll make sure of the competition assumption\n",
    "train_df[['Pclass', 'Survived']].groupby(['Pclass'], as_index=False).mean().sort_values(by='Survived', ascending=False)"
   ]
  },
  {
   "cell_type": "code",
   "execution_count": 14,
   "id": "b56955de",
   "metadata": {
    "execution": {
     "iopub.execute_input": "2022-03-23T16:16:26.236128Z",
     "iopub.status.busy": "2022-03-23T16:16:26.235423Z",
     "iopub.status.idle": "2022-03-23T16:16:26.247887Z",
     "shell.execute_reply": "2022-03-23T16:16:26.248427Z",
     "shell.execute_reply.started": "2022-03-23T16:06:42.918261Z"
    },
    "papermill": {
     "duration": 0.098904,
     "end_time": "2022-03-23T16:16:26.248605",
     "exception": false,
     "start_time": "2022-03-23T16:16:26.149701",
     "status": "completed"
    },
    "tags": []
   },
   "outputs": [
    {
     "data": {
      "text/html": [
       "<div>\n",
       "<style scoped>\n",
       "    .dataframe tbody tr th:only-of-type {\n",
       "        vertical-align: middle;\n",
       "    }\n",
       "\n",
       "    .dataframe tbody tr th {\n",
       "        vertical-align: top;\n",
       "    }\n",
       "\n",
       "    .dataframe thead th {\n",
       "        text-align: right;\n",
       "    }\n",
       "</style>\n",
       "<table border=\"1\" class=\"dataframe\">\n",
       "  <thead>\n",
       "    <tr style=\"text-align: right;\">\n",
       "      <th></th>\n",
       "      <th>SibSp</th>\n",
       "      <th>Survived</th>\n",
       "    </tr>\n",
       "  </thead>\n",
       "  <tbody>\n",
       "    <tr>\n",
       "      <th>1</th>\n",
       "      <td>1</td>\n",
       "      <td>0.535885</td>\n",
       "    </tr>\n",
       "    <tr>\n",
       "      <th>2</th>\n",
       "      <td>2</td>\n",
       "      <td>0.464286</td>\n",
       "    </tr>\n",
       "    <tr>\n",
       "      <th>0</th>\n",
       "      <td>0</td>\n",
       "      <td>0.345395</td>\n",
       "    </tr>\n",
       "    <tr>\n",
       "      <th>3</th>\n",
       "      <td>3</td>\n",
       "      <td>0.250000</td>\n",
       "    </tr>\n",
       "    <tr>\n",
       "      <th>4</th>\n",
       "      <td>4</td>\n",
       "      <td>0.166667</td>\n",
       "    </tr>\n",
       "    <tr>\n",
       "      <th>5</th>\n",
       "      <td>5</td>\n",
       "      <td>0.000000</td>\n",
       "    </tr>\n",
       "    <tr>\n",
       "      <th>6</th>\n",
       "      <td>8</td>\n",
       "      <td>0.000000</td>\n",
       "    </tr>\n",
       "  </tbody>\n",
       "</table>\n",
       "</div>"
      ],
      "text/plain": [
       "   SibSp  Survived\n",
       "1      1  0.535885\n",
       "2      2  0.464286\n",
       "0      0  0.345395\n",
       "3      3  0.250000\n",
       "4      4  0.166667\n",
       "5      5  0.000000\n",
       "6      8  0.000000"
      ]
     },
     "execution_count": 14,
     "metadata": {},
     "output_type": "execute_result"
    }
   ],
   "source": [
    "# I'll make sure of the competition assumption\n",
    "train_df[['SibSp', 'Survived']].groupby(['SibSp'], as_index=False).mean().sort_values(by='Survived', ascending=False)\n",
    "# Logically, the more you have a siblings the less probabilty of surviving  "
   ]
  },
  {
   "cell_type": "code",
   "execution_count": 15,
   "id": "7caca76f",
   "metadata": {
    "execution": {
     "iopub.execute_input": "2022-03-23T16:16:26.433043Z",
     "iopub.status.busy": "2022-03-23T16:16:26.422621Z",
     "iopub.status.idle": "2022-03-23T16:16:26.436253Z",
     "shell.execute_reply": "2022-03-23T16:16:26.436706Z",
     "shell.execute_reply.started": "2022-03-23T16:06:42.959892Z"
    },
    "papermill": {
     "duration": 0.102101,
     "end_time": "2022-03-23T16:16:26.436894",
     "exception": false,
     "start_time": "2022-03-23T16:16:26.334793",
     "status": "completed"
    },
    "tags": []
   },
   "outputs": [
    {
     "data": {
      "text/html": [
       "<div>\n",
       "<style scoped>\n",
       "    .dataframe tbody tr th:only-of-type {\n",
       "        vertical-align: middle;\n",
       "    }\n",
       "\n",
       "    .dataframe tbody tr th {\n",
       "        vertical-align: top;\n",
       "    }\n",
       "\n",
       "    .dataframe thead th {\n",
       "        text-align: right;\n",
       "    }\n",
       "</style>\n",
       "<table border=\"1\" class=\"dataframe\">\n",
       "  <thead>\n",
       "    <tr style=\"text-align: right;\">\n",
       "      <th></th>\n",
       "      <th>Parch</th>\n",
       "      <th>Survived</th>\n",
       "    </tr>\n",
       "  </thead>\n",
       "  <tbody>\n",
       "    <tr>\n",
       "      <th>3</th>\n",
       "      <td>3</td>\n",
       "      <td>0.600000</td>\n",
       "    </tr>\n",
       "    <tr>\n",
       "      <th>1</th>\n",
       "      <td>1</td>\n",
       "      <td>0.550847</td>\n",
       "    </tr>\n",
       "    <tr>\n",
       "      <th>2</th>\n",
       "      <td>2</td>\n",
       "      <td>0.500000</td>\n",
       "    </tr>\n",
       "    <tr>\n",
       "      <th>0</th>\n",
       "      <td>0</td>\n",
       "      <td>0.343658</td>\n",
       "    </tr>\n",
       "    <tr>\n",
       "      <th>5</th>\n",
       "      <td>5</td>\n",
       "      <td>0.200000</td>\n",
       "    </tr>\n",
       "    <tr>\n",
       "      <th>4</th>\n",
       "      <td>4</td>\n",
       "      <td>0.000000</td>\n",
       "    </tr>\n",
       "    <tr>\n",
       "      <th>6</th>\n",
       "      <td>6</td>\n",
       "      <td>0.000000</td>\n",
       "    </tr>\n",
       "  </tbody>\n",
       "</table>\n",
       "</div>"
      ],
      "text/plain": [
       "   Parch  Survived\n",
       "3      3  0.600000\n",
       "1      1  0.550847\n",
       "2      2  0.500000\n",
       "0      0  0.343658\n",
       "5      5  0.200000\n",
       "4      4  0.000000\n",
       "6      6  0.000000"
      ]
     },
     "execution_count": 15,
     "metadata": {},
     "output_type": "execute_result"
    }
   ],
   "source": [
    "# I'll make sure of the competition assumption\n",
    "train_df[['Parch', 'Survived']].groupby(['Parch'], as_index=False).mean().sort_values(by='Survived', ascending=False)"
   ]
  },
  {
   "cell_type": "code",
   "execution_count": 16,
   "id": "f029edae",
   "metadata": {
    "execution": {
     "iopub.execute_input": "2022-03-23T16:16:26.607838Z",
     "iopub.status.busy": "2022-03-23T16:16:26.607107Z",
     "iopub.status.idle": "2022-03-23T16:16:26.913882Z",
     "shell.execute_reply": "2022-03-23T16:16:26.914429Z",
     "shell.execute_reply.started": "2022-03-23T16:06:42.978732Z"
    },
    "papermill": {
     "duration": 0.39515,
     "end_time": "2022-03-23T16:16:26.914612",
     "exception": false,
     "start_time": "2022-03-23T16:16:26.519462",
     "status": "completed"
    },
    "tags": []
   },
   "outputs": [
    {
     "name": "stderr",
     "output_type": "stream",
     "text": [
      "/opt/conda/lib/python3.7/site-packages/seaborn/distributions.py:2619: FutureWarning: `distplot` is a deprecated function and will be removed in a future version. Please adapt your code to use either `displot` (a figure-level function with similar flexibility) or `histplot` (an axes-level function for histograms).\n",
      "  warnings.warn(msg, FutureWarning)\n"
     ]
    },
    {
     "data": {
      "text/plain": [
       "<AxesSubplot:xlabel='Age', ylabel='Density'>"
      ]
     },
     "execution_count": 16,
     "metadata": {},
     "output_type": "execute_result"
    },
    {
     "data": {
      "image/png": "[encoded data removed]",
      "text/plain": [
       "<Figure size 432x288 with 1 Axes>"
      ]
     },
     "metadata": {
      "needs_background": "light"
     },
     "output_type": "display_data"
    }
   ],
   "source": [
    "sns.distplot(train_df['Age'])"
   ]
  },
  {
   "cell_type": "code",
   "execution_count": 17,
   "id": "4f7389cf",
   "metadata": {
    "execution": {
     "iopub.execute_input": "2022-03-23T16:16:27.088999Z",
     "iopub.status.busy": "2022-03-23T16:16:27.088344Z",
     "iopub.status.idle": "2022-03-23T16:16:27.573147Z",
     "shell.execute_reply": "2022-03-23T16:16:27.573645Z",
     "shell.execute_reply.started": "2022-03-23T16:06:43.210257Z"
    },
    "papermill": {
     "duration": 0.574171,
     "end_time": "2022-03-23T16:16:27.573833",
     "exception": false,
     "start_time": "2022-03-23T16:16:26.999662",
     "status": "completed"
    },
    "tags": []
   },
   "outputs": [
    {
     "data": {
      "text/plain": [
       "<seaborn.axisgrid.FacetGrid at 0x7fcaa6ca1590>"
      ]
     },
     "execution_count": 17,
     "metadata": {},
     "output_type": "execute_result"
    },
    {
     "data": {
      "image/png": "[encoded data removed]",
      "text/plain": [
       "<Figure size 432x216 with 2 Axes>"
      ]
     },
     "metadata": {
      "needs_background": "light"
     },
     "output_type": "display_data"
    }
   ],
   "source": [
    "g = sns.FacetGrid(train_df, col='Survived')\n",
    "g.map(plt.hist, 'Age', bins=20)"
   ]
  },
  {
   "cell_type": "markdown",
   "id": "aa20536c",
   "metadata": {
    "papermill": {
     "duration": 0.085532,
     "end_time": "2022-03-23T16:16:27.745806",
     "exception": false,
     "start_time": "2022-03-23T16:16:27.660274",
     "status": "completed"
    },
    "tags": []
   },
   "source": [
    "# Children less than 2 years old have higher survival rate more than anyone"
   ]
  },
  {
   "cell_type": "markdown",
   "id": "99a9d4f1",
   "metadata": {
    "papermill": {
     "duration": 0.096954,
     "end_time": "2022-03-23T16:16:27.949585",
     "exception": false,
     "start_time": "2022-03-23T16:16:27.852631",
     "status": "completed"
    },
    "tags": []
   },
   "source": [
    "- I want to see if the fare related to survival rate \n"
   ]
  },
  {
   "cell_type": "code",
   "execution_count": 18,
   "id": "2174d1dd",
   "metadata": {
    "execution": {
     "iopub.execute_input": "2022-03-23T16:16:28.143526Z",
     "iopub.status.busy": "2022-03-23T16:16:28.142366Z",
     "iopub.status.idle": "2022-03-23T16:16:28.153913Z",
     "shell.execute_reply": "2022-03-23T16:16:28.154511Z",
     "shell.execute_reply.started": "2022-03-23T16:06:43.606932Z"
    },
    "papermill": {
     "duration": 0.11094,
     "end_time": "2022-03-23T16:16:28.154709",
     "exception": false,
     "start_time": "2022-03-23T16:16:28.043769",
     "status": "completed"
    },
    "tags": []
   },
   "outputs": [
    {
     "data": {
      "text/plain": [
       "Survived       1.000000\n",
       "Pclass         0.338481\n",
       "Fare           0.257307\n",
       "Parch          0.081629\n",
       "Age            0.077221\n",
       "SibSp          0.035322\n",
       "PassengerId    0.005007\n",
       "Name: Survived, dtype: float64"
      ]
     },
     "execution_count": 18,
     "metadata": {},
     "output_type": "execute_result"
    }
   ],
   "source": [
    "corr = train_df.select_dtypes(exclude=['object']).corr()\n",
    "abs(corr['Survived']).sort_values(ascending=False)"
   ]
  },
  {
   "cell_type": "code",
   "execution_count": 19,
   "id": "c2aafbc6",
   "metadata": {
    "execution": {
     "iopub.execute_input": "2022-03-23T16:16:28.334450Z",
     "iopub.status.busy": "2022-03-23T16:16:28.333426Z",
     "iopub.status.idle": "2022-03-23T16:16:28.843628Z",
     "shell.execute_reply": "2022-03-23T16:16:28.842883Z",
     "shell.execute_reply.started": "2022-03-23T16:06:43.622813Z"
    },
    "papermill": {
     "duration": 0.601502,
     "end_time": "2022-03-23T16:16:28.843772",
     "exception": false,
     "start_time": "2022-03-23T16:16:28.242270",
     "status": "completed"
    },
    "tags": []
   },
   "outputs": [
    {
     "data": {
      "image/png": "[encoded data removed]",
      "text/plain": [
       "<Figure size 1080x1080 with 2 Axes>"
      ]
     },
     "metadata": {
      "needs_background": "light"
     },
     "output_type": "display_data"
    }
   ],
   "source": [
    "plt.figure(figsize=(15,15))\n",
    "sns.heatmap(corr, annot = True)\n",
    "plt.show()"
   ]
  },
  {
   "cell_type": "markdown",
   "id": "b045f35f",
   "metadata": {
    "papermill": {
     "duration": 0.08897,
     "end_time": "2022-03-23T16:16:29.021163",
     "exception": false,
     "start_time": "2022-03-23T16:16:28.932193",
     "status": "completed"
    },
    "tags": []
   },
   "source": [
    "# So there's no correlation between numerical variables -- and the most correlated feature with survival were the Pclass"
   ]
  },
  {
   "cell_type": "markdown",
   "id": "9ceafe1b",
   "metadata": {
    "papermill": {
     "duration": 0.09038,
     "end_time": "2022-03-23T16:16:29.199386",
     "exception": false,
     "start_time": "2022-03-23T16:16:29.109006",
     "status": "completed"
    },
    "tags": []
   },
   "source": [
    "# Let's Invastigate the Categorical features\n"
   ]
  },
  {
   "cell_type": "markdown",
   "id": "9555431b",
   "metadata": {
    "execution": {
     "iopub.execute_input": "2022-03-18T18:38:20.368185Z",
     "iopub.status.busy": "2022-03-18T18:38:20.367901Z",
     "iopub.status.idle": "2022-03-18T18:38:20.374496Z",
     "shell.execute_reply": "2022-03-18T18:38:20.373249Z",
     "shell.execute_reply.started": "2022-03-18T18:38:20.368157Z"
    },
    "papermill": {
     "duration": 0.088283,
     "end_time": "2022-03-23T16:16:29.379763",
     "exception": false,
     "start_time": "2022-03-23T16:16:29.291480",
     "status": "completed"
    },
    "tags": []
   },
   "source": [
    "- I want to figure out wether specific embarked have specific class or all embarked ar equal "
   ]
  },
  {
   "cell_type": "code",
   "execution_count": 20,
   "id": "682617be",
   "metadata": {
    "execution": {
     "iopub.execute_input": "2022-03-23T16:16:29.559465Z",
     "iopub.status.busy": "2022-03-23T16:16:29.558639Z",
     "iopub.status.idle": "2022-03-23T16:16:29.776850Z",
     "shell.execute_reply": "2022-03-23T16:16:29.777484Z",
     "shell.execute_reply.started": "2022-03-23T16:06:44.084836Z"
    },
    "papermill": {
     "duration": 0.31025,
     "end_time": "2022-03-23T16:16:29.778078",
     "exception": false,
     "start_time": "2022-03-23T16:16:29.467828",
     "status": "completed"
    },
    "tags": []
   },
   "outputs": [
    {
     "data": {
      "text/plain": [
       "<AxesSubplot:xlabel='Embarked'>"
      ]
     },
     "execution_count": 20,
     "metadata": {},
     "output_type": "execute_result"
    },
    {
     "data": {
      "image/png": "[encoded data removed]",
      "text/plain": [
       "<Figure size 432x288 with 1 Axes>"
      ]
     },
     "metadata": {
      "needs_background": "light"
     },
     "output_type": "display_data"
    }
   ],
   "source": [
    "train_df[['Embarked', 'Survived']].groupby(['Embarked'], as_index=True).mean().sort_values(by='Survived', ascending=False).plot(kind='bar')"
   ]
  },
  {
   "cell_type": "code",
   "execution_count": 21,
   "id": "a9bfe59f",
   "metadata": {
    "execution": {
     "iopub.execute_input": "2022-03-23T16:16:29.961992Z",
     "iopub.status.busy": "2022-03-23T16:16:29.961334Z",
     "iopub.status.idle": "2022-03-23T16:16:32.014509Z",
     "shell.execute_reply": "2022-03-23T16:16:32.013732Z",
     "shell.execute_reply.started": "2022-03-23T16:06:44.247915Z"
    },
    "papermill": {
     "duration": 2.14649,
     "end_time": "2022-03-23T16:16:32.014687",
     "exception": false,
     "start_time": "2022-03-23T16:16:29.868197",
     "status": "completed"
    },
    "tags": []
   },
   "outputs": [
    {
     "data": {
      "text/plain": [
       "<BarContainer object of 891 artists>"
      ]
     },
     "execution_count": 21,
     "metadata": {},
     "output_type": "execute_result"
    },
    {
     "data": {
      "image/png": "[encoded data removed]",
      "text/plain": [
       "<Figure size 432x288 with 1 Axes>"
      ]
     },
     "metadata": {
      "needs_background": "light"
     },
     "output_type": "display_data"
    }
   ],
   "source": [
    "plt.bar(data = train_df, height = 'Fare',x = 'Survived')"
   ]
  },
  {
   "cell_type": "markdown",
   "id": "431054a0",
   "metadata": {
    "papermill": {
     "duration": 0.090912,
     "end_time": "2022-03-23T16:16:32.196357",
     "exception": false,
     "start_time": "2022-03-23T16:16:32.105445",
     "status": "completed"
    },
    "tags": []
   },
   "source": [
    "# Observations.\n",
    "\n",
    "- Higher fare paying passengers had better survival. \n",
    "- Embarked C have higher survival rate which maybe contain more from Class 1"
   ]
  },
  {
   "cell_type": "markdown",
   "id": "34db8c3f",
   "metadata": {
    "papermill": {
     "duration": 0.090631,
     "end_time": "2022-03-23T16:16:32.404162",
     "exception": false,
     "start_time": "2022-03-23T16:16:32.313531",
     "status": "completed"
    },
    "tags": []
   },
   "source": [
    "# Now I want to complete, drop, engineer my data based on the EDA"
   ]
  },
  {
   "cell_type": "code",
   "execution_count": 22,
   "id": "fa8d594a",
   "metadata": {
    "execution": {
     "iopub.execute_input": "2022-03-23T16:16:32.586892Z",
     "iopub.status.busy": "2022-03-23T16:16:32.586253Z",
     "iopub.status.idle": "2022-03-23T16:16:32.594412Z",
     "shell.execute_reply": "2022-03-23T16:16:32.594964Z",
     "shell.execute_reply.started": "2022-03-23T16:06:46.476062Z"
    },
    "papermill": {
     "duration": 0.101061,
     "end_time": "2022-03-23T16:16:32.595152",
     "exception": false,
     "start_time": "2022-03-23T16:16:32.494091",
     "status": "completed"
    },
    "tags": []
   },
   "outputs": [
    {
     "data": {
      "text/plain": [
       "PassengerId      0\n",
       "Survived         0\n",
       "Pclass           0\n",
       "Name             0\n",
       "Sex              0\n",
       "Age            177\n",
       "SibSp            0\n",
       "Parch            0\n",
       "Ticket           0\n",
       "Fare             0\n",
       "Cabin          687\n",
       "Embarked         2\n",
       "dtype: int64"
      ]
     },
     "execution_count": 22,
     "metadata": {},
     "output_type": "execute_result"
    }
   ],
   "source": [
    "train_df.isnull().sum()"
   ]
  },
  {
   "cell_type": "markdown",
   "id": "6b4efe61",
   "metadata": {
    "execution": {
     "iopub.execute_input": "2022-03-18T19:09:55.749734Z",
     "iopub.status.busy": "2022-03-18T19:09:55.749466Z",
     "iopub.status.idle": "2022-03-18T19:09:55.754421Z",
     "shell.execute_reply": "2022-03-18T19:09:55.7534Z",
     "shell.execute_reply.started": "2022-03-18T19:09:55.749705Z"
    },
    "papermill": {
     "duration": 0.090687,
     "end_time": "2022-03-23T16:16:32.777271",
     "exception": false,
     "start_time": "2022-03-23T16:16:32.686584",
     "status": "completed"
    },
    "tags": []
   },
   "source": [
    "# I'll drop PassengerId and Cabin and Ticket featuers as i belive that it'll not help"
   ]
  },
  {
   "cell_type": "code",
   "execution_count": 23,
   "id": "e137b94b",
   "metadata": {
    "execution": {
     "iopub.execute_input": "2022-03-23T16:16:32.964017Z",
     "iopub.status.busy": "2022-03-23T16:16:32.963385Z",
     "iopub.status.idle": "2022-03-23T16:16:32.969096Z",
     "shell.execute_reply": "2022-03-23T16:16:32.969704Z",
     "shell.execute_reply.started": "2022-03-23T16:06:46.488118Z"
    },
    "papermill": {
     "duration": 0.100867,
     "end_time": "2022-03-23T16:16:32.969883",
     "exception": false,
     "start_time": "2022-03-23T16:16:32.869016",
     "status": "completed"
    },
    "tags": []
   },
   "outputs": [],
   "source": [
    "train_dff = train_df.drop(columns = ['Cabin', 'Ticket', 'PassengerId']) \n",
    "test_dff = test_df.drop(columns = ['Cabin', 'Ticket', 'PassengerId']) "
   ]
  },
  {
   "cell_type": "code",
   "execution_count": 24,
   "id": "da420613",
   "metadata": {
    "execution": {
     "iopub.execute_input": "2022-03-23T16:16:33.156129Z",
     "iopub.status.busy": "2022-03-23T16:16:33.155433Z",
     "iopub.status.idle": "2022-03-23T16:16:33.163076Z",
     "shell.execute_reply": "2022-03-23T16:16:33.163655Z",
     "shell.execute_reply.started": "2022-03-23T16:06:46.501265Z"
    },
    "papermill": {
     "duration": 0.101995,
     "end_time": "2022-03-23T16:16:33.163844",
     "exception": false,
     "start_time": "2022-03-23T16:16:33.061849",
     "status": "completed"
    },
    "tags": []
   },
   "outputs": [],
   "source": [
    "train_dff['Sex'] = train_dff['Sex'].replace({'female':1,'male':0})\n",
    "test_dff['Sex'] = test_dff['Sex'].replace({'female':1,'male':0})"
   ]
  },
  {
   "cell_type": "code",
   "execution_count": 25,
   "id": "0d42f16e",
   "metadata": {
    "execution": {
     "iopub.execute_input": "2022-03-23T16:16:33.369360Z",
     "iopub.status.busy": "2022-03-23T16:16:33.368448Z",
     "iopub.status.idle": "2022-03-23T16:16:33.372273Z",
     "shell.execute_reply": "2022-03-23T16:16:33.372795Z",
     "shell.execute_reply.started": "2022-03-23T16:06:46.519957Z"
    },
    "papermill": {
     "duration": 0.117476,
     "end_time": "2022-03-23T16:16:33.372968",
     "exception": false,
     "start_time": "2022-03-23T16:16:33.255492",
     "status": "completed"
    },
    "tags": []
   },
   "outputs": [
    {
     "data": {
      "text/html": [
       "<div>\n",
       "<style scoped>\n",
       "    .dataframe tbody tr th:only-of-type {\n",
       "        vertical-align: middle;\n",
       "    }\n",
       "\n",
       "    .dataframe tbody tr th {\n",
       "        vertical-align: top;\n",
       "    }\n",
       "\n",
       "    .dataframe thead th {\n",
       "        text-align: right;\n",
       "    }\n",
       "</style>\n",
       "<table border=\"1\" class=\"dataframe\">\n",
       "  <thead>\n",
       "    <tr style=\"text-align: right;\">\n",
       "      <th></th>\n",
       "      <th>Survived</th>\n",
       "      <th>Pclass</th>\n",
       "      <th>Name</th>\n",
       "      <th>Sex</th>\n",
       "      <th>Age</th>\n",
       "      <th>SibSp</th>\n",
       "      <th>Parch</th>\n",
       "      <th>Fare</th>\n",
       "      <th>Embarked</th>\n",
       "    </tr>\n",
       "  </thead>\n",
       "  <tbody>\n",
       "    <tr>\n",
       "      <th>7</th>\n",
       "      <td>0</td>\n",
       "      <td>3</td>\n",
       "      <td>Palsson, Master. Gosta Leonard</td>\n",
       "      <td>0</td>\n",
       "      <td>2.00</td>\n",
       "      <td>3</td>\n",
       "      <td>1</td>\n",
       "      <td>21.0750</td>\n",
       "      <td>S</td>\n",
       "    </tr>\n",
       "    <tr>\n",
       "      <th>9</th>\n",
       "      <td>1</td>\n",
       "      <td>2</td>\n",
       "      <td>Nasser, Mrs. Nicholas (Adele Achem)</td>\n",
       "      <td>1</td>\n",
       "      <td>14.00</td>\n",
       "      <td>1</td>\n",
       "      <td>0</td>\n",
       "      <td>30.0708</td>\n",
       "      <td>C</td>\n",
       "    </tr>\n",
       "    <tr>\n",
       "      <th>10</th>\n",
       "      <td>1</td>\n",
       "      <td>3</td>\n",
       "      <td>Sandstrom, Miss. Marguerite Rut</td>\n",
       "      <td>1</td>\n",
       "      <td>4.00</td>\n",
       "      <td>1</td>\n",
       "      <td>1</td>\n",
       "      <td>16.7000</td>\n",
       "      <td>S</td>\n",
       "    </tr>\n",
       "    <tr>\n",
       "      <th>14</th>\n",
       "      <td>0</td>\n",
       "      <td>3</td>\n",
       "      <td>Vestrom, Miss. Hulda Amanda Adolfina</td>\n",
       "      <td>1</td>\n",
       "      <td>14.00</td>\n",
       "      <td>0</td>\n",
       "      <td>0</td>\n",
       "      <td>7.8542</td>\n",
       "      <td>S</td>\n",
       "    </tr>\n",
       "    <tr>\n",
       "      <th>16</th>\n",
       "      <td>0</td>\n",
       "      <td>3</td>\n",
       "      <td>Rice, Master. Eugene</td>\n",
       "      <td>0</td>\n",
       "      <td>2.00</td>\n",
       "      <td>4</td>\n",
       "      <td>1</td>\n",
       "      <td>29.1250</td>\n",
       "      <td>Q</td>\n",
       "    </tr>\n",
       "    <tr>\n",
       "      <th>...</th>\n",
       "      <td>...</td>\n",
       "      <td>...</td>\n",
       "      <td>...</td>\n",
       "      <td>...</td>\n",
       "      <td>...</td>\n",
       "      <td>...</td>\n",
       "      <td>...</td>\n",
       "      <td>...</td>\n",
       "      <td>...</td>\n",
       "    </tr>\n",
       "    <tr>\n",
       "      <th>831</th>\n",
       "      <td>1</td>\n",
       "      <td>2</td>\n",
       "      <td>Richards, Master. George Sibley</td>\n",
       "      <td>0</td>\n",
       "      <td>0.83</td>\n",
       "      <td>1</td>\n",
       "      <td>1</td>\n",
       "      <td>18.7500</td>\n",
       "      <td>S</td>\n",
       "    </tr>\n",
       "    <tr>\n",
       "      <th>850</th>\n",
       "      <td>0</td>\n",
       "      <td>3</td>\n",
       "      <td>Andersson, Master. Sigvard Harald Elias</td>\n",
       "      <td>0</td>\n",
       "      <td>4.00</td>\n",
       "      <td>4</td>\n",
       "      <td>2</td>\n",
       "      <td>31.2750</td>\n",
       "      <td>S</td>\n",
       "    </tr>\n",
       "    <tr>\n",
       "      <th>852</th>\n",
       "      <td>0</td>\n",
       "      <td>3</td>\n",
       "      <td>Boulos, Miss. Nourelain</td>\n",
       "      <td>1</td>\n",
       "      <td>9.00</td>\n",
       "      <td>1</td>\n",
       "      <td>1</td>\n",
       "      <td>15.2458</td>\n",
       "      <td>C</td>\n",
       "    </tr>\n",
       "    <tr>\n",
       "      <th>869</th>\n",
       "      <td>1</td>\n",
       "      <td>3</td>\n",
       "      <td>Johnson, Master. Harold Theodor</td>\n",
       "      <td>0</td>\n",
       "      <td>4.00</td>\n",
       "      <td>1</td>\n",
       "      <td>1</td>\n",
       "      <td>11.1333</td>\n",
       "      <td>S</td>\n",
       "    </tr>\n",
       "    <tr>\n",
       "      <th>875</th>\n",
       "      <td>1</td>\n",
       "      <td>3</td>\n",
       "      <td>Najib, Miss. Adele Kiamie \"Jane\"</td>\n",
       "      <td>1</td>\n",
       "      <td>15.00</td>\n",
       "      <td>0</td>\n",
       "      <td>0</td>\n",
       "      <td>7.2250</td>\n",
       "      <td>C</td>\n",
       "    </tr>\n",
       "  </tbody>\n",
       "</table>\n",
       "<p>83 rows × 9 columns</p>\n",
       "</div>"
      ],
      "text/plain": [
       "     Survived  Pclass                                     Name  Sex    Age  \\\n",
       "7           0       3           Palsson, Master. Gosta Leonard    0   2.00   \n",
       "9           1       2      Nasser, Mrs. Nicholas (Adele Achem)    1  14.00   \n",
       "10          1       3          Sandstrom, Miss. Marguerite Rut    1   4.00   \n",
       "14          0       3     Vestrom, Miss. Hulda Amanda Adolfina    1  14.00   \n",
       "16          0       3                     Rice, Master. Eugene    0   2.00   \n",
       "..        ...     ...                                      ...  ...    ...   \n",
       "831         1       2          Richards, Master. George Sibley    0   0.83   \n",
       "850         0       3  Andersson, Master. Sigvard Harald Elias    0   4.00   \n",
       "852         0       3                  Boulos, Miss. Nourelain    1   9.00   \n",
       "869         1       3          Johnson, Master. Harold Theodor    0   4.00   \n",
       "875         1       3         Najib, Miss. Adele Kiamie \"Jane\"    1  15.00   \n",
       "\n",
       "     SibSp  Parch     Fare Embarked  \n",
       "7        3      1  21.0750        S  \n",
       "9        1      0  30.0708        C  \n",
       "10       1      1  16.7000        S  \n",
       "14       0      0   7.8542        S  \n",
       "16       4      1  29.1250        Q  \n",
       "..     ...    ...      ...      ...  \n",
       "831      1      1  18.7500        S  \n",
       "850      4      2  31.2750        S  \n",
       "852      1      1  15.2458        C  \n",
       "869      1      1  11.1333        S  \n",
       "875      0      0   7.2250        C  \n",
       "\n",
       "[83 rows x 9 columns]"
      ]
     },
     "execution_count": 25,
     "metadata": {},
     "output_type": "execute_result"
    }
   ],
   "source": [
    "train_dff[train_dff['Age'] < 16]"
   ]
  },
  {
   "cell_type": "code",
   "execution_count": 26,
   "id": "fde6f5cf",
   "metadata": {
    "execution": {
     "iopub.execute_input": "2022-03-23T16:16:33.560642Z",
     "iopub.status.busy": "2022-03-23T16:16:33.559959Z",
     "iopub.status.idle": "2022-03-23T16:16:33.564436Z",
     "shell.execute_reply": "2022-03-23T16:16:33.563871Z",
     "shell.execute_reply.started": "2022-03-23T16:06:46.543044Z"
    },
    "papermill": {
     "duration": 0.099923,
     "end_time": "2022-03-23T16:16:33.564591",
     "exception": false,
     "start_time": "2022-03-23T16:16:33.464668",
     "status": "completed"
    },
    "tags": []
   },
   "outputs": [],
   "source": [
    "combine = [train_dff, test_dff]"
   ]
  },
  {
   "cell_type": "code",
   "execution_count": 27,
   "id": "7d631161",
   "metadata": {
    "execution": {
     "iopub.execute_input": "2022-03-23T16:16:33.751862Z",
     "iopub.status.busy": "2022-03-23T16:16:33.751166Z",
     "iopub.status.idle": "2022-03-23T16:16:33.770702Z",
     "shell.execute_reply": "2022-03-23T16:16:33.771339Z",
     "shell.execute_reply.started": "2022-03-23T16:06:46.552004Z"
    },
    "papermill": {
     "duration": 0.114968,
     "end_time": "2022-03-23T16:16:33.771515",
     "exception": false,
     "start_time": "2022-03-23T16:16:33.656547",
     "status": "completed"
    },
    "tags": []
   },
   "outputs": [
    {
     "data": {
      "text/html": [
       "<div>\n",
       "<style scoped>\n",
       "    .dataframe tbody tr th:only-of-type {\n",
       "        vertical-align: middle;\n",
       "    }\n",
       "\n",
       "    .dataframe tbody tr th {\n",
       "        vertical-align: top;\n",
       "    }\n",
       "\n",
       "    .dataframe thead th {\n",
       "        text-align: right;\n",
       "    }\n",
       "</style>\n",
       "<table border=\"1\" class=\"dataframe\">\n",
       "  <thead>\n",
       "    <tr style=\"text-align: right;\">\n",
       "      <th></th>\n",
       "      <th>Survived</th>\n",
       "      <th>Pclass</th>\n",
       "      <th>Name</th>\n",
       "      <th>Sex</th>\n",
       "      <th>Age</th>\n",
       "      <th>SibSp</th>\n",
       "      <th>Parch</th>\n",
       "      <th>Fare</th>\n",
       "      <th>Embarked</th>\n",
       "    </tr>\n",
       "  </thead>\n",
       "  <tbody>\n",
       "    <tr>\n",
       "      <th>5</th>\n",
       "      <td>0</td>\n",
       "      <td>3</td>\n",
       "      <td>Moran, Mr. James</td>\n",
       "      <td>0</td>\n",
       "      <td>NaN</td>\n",
       "      <td>0</td>\n",
       "      <td>0</td>\n",
       "      <td>8.4583</td>\n",
       "      <td>Q</td>\n",
       "    </tr>\n",
       "    <tr>\n",
       "      <th>17</th>\n",
       "      <td>1</td>\n",
       "      <td>2</td>\n",
       "      <td>Williams, Mr. Charles Eugene</td>\n",
       "      <td>0</td>\n",
       "      <td>NaN</td>\n",
       "      <td>0</td>\n",
       "      <td>0</td>\n",
       "      <td>13.0000</td>\n",
       "      <td>S</td>\n",
       "    </tr>\n",
       "    <tr>\n",
       "      <th>19</th>\n",
       "      <td>1</td>\n",
       "      <td>3</td>\n",
       "      <td>Masselmani, Mrs. Fatima</td>\n",
       "      <td>1</td>\n",
       "      <td>NaN</td>\n",
       "      <td>0</td>\n",
       "      <td>0</td>\n",
       "      <td>7.2250</td>\n",
       "      <td>C</td>\n",
       "    </tr>\n",
       "    <tr>\n",
       "      <th>26</th>\n",
       "      <td>0</td>\n",
       "      <td>3</td>\n",
       "      <td>Emir, Mr. Farred Chehab</td>\n",
       "      <td>0</td>\n",
       "      <td>NaN</td>\n",
       "      <td>0</td>\n",
       "      <td>0</td>\n",
       "      <td>7.2250</td>\n",
       "      <td>C</td>\n",
       "    </tr>\n",
       "    <tr>\n",
       "      <th>28</th>\n",
       "      <td>1</td>\n",
       "      <td>3</td>\n",
       "      <td>O'Dwyer, Miss. Ellen \"Nellie\"</td>\n",
       "      <td>1</td>\n",
       "      <td>NaN</td>\n",
       "      <td>0</td>\n",
       "      <td>0</td>\n",
       "      <td>7.8792</td>\n",
       "      <td>Q</td>\n",
       "    </tr>\n",
       "    <tr>\n",
       "      <th>...</th>\n",
       "      <td>...</td>\n",
       "      <td>...</td>\n",
       "      <td>...</td>\n",
       "      <td>...</td>\n",
       "      <td>...</td>\n",
       "      <td>...</td>\n",
       "      <td>...</td>\n",
       "      <td>...</td>\n",
       "      <td>...</td>\n",
       "    </tr>\n",
       "    <tr>\n",
       "      <th>859</th>\n",
       "      <td>0</td>\n",
       "      <td>3</td>\n",
       "      <td>Razi, Mr. Raihed</td>\n",
       "      <td>0</td>\n",
       "      <td>NaN</td>\n",
       "      <td>0</td>\n",
       "      <td>0</td>\n",
       "      <td>7.2292</td>\n",
       "      <td>C</td>\n",
       "    </tr>\n",
       "    <tr>\n",
       "      <th>863</th>\n",
       "      <td>0</td>\n",
       "      <td>3</td>\n",
       "      <td>Sage, Miss. Dorothy Edith \"Dolly\"</td>\n",
       "      <td>1</td>\n",
       "      <td>NaN</td>\n",
       "      <td>8</td>\n",
       "      <td>2</td>\n",
       "      <td>69.5500</td>\n",
       "      <td>S</td>\n",
       "    </tr>\n",
       "    <tr>\n",
       "      <th>868</th>\n",
       "      <td>0</td>\n",
       "      <td>3</td>\n",
       "      <td>van Melkebeke, Mr. Philemon</td>\n",
       "      <td>0</td>\n",
       "      <td>NaN</td>\n",
       "      <td>0</td>\n",
       "      <td>0</td>\n",
       "      <td>9.5000</td>\n",
       "      <td>S</td>\n",
       "    </tr>\n",
       "    <tr>\n",
       "      <th>878</th>\n",
       "      <td>0</td>\n",
       "      <td>3</td>\n",
       "      <td>Laleff, Mr. Kristo</td>\n",
       "      <td>0</td>\n",
       "      <td>NaN</td>\n",
       "      <td>0</td>\n",
       "      <td>0</td>\n",
       "      <td>7.8958</td>\n",
       "      <td>S</td>\n",
       "    </tr>\n",
       "    <tr>\n",
       "      <th>888</th>\n",
       "      <td>0</td>\n",
       "      <td>3</td>\n",
       "      <td>Johnston, Miss. Catherine Helen \"Carrie\"</td>\n",
       "      <td>1</td>\n",
       "      <td>NaN</td>\n",
       "      <td>1</td>\n",
       "      <td>2</td>\n",
       "      <td>23.4500</td>\n",
       "      <td>S</td>\n",
       "    </tr>\n",
       "  </tbody>\n",
       "</table>\n",
       "<p>177 rows × 9 columns</p>\n",
       "</div>"
      ],
      "text/plain": [
       "     Survived  Pclass                                      Name  Sex  Age  \\\n",
       "5           0       3                          Moran, Mr. James    0  NaN   \n",
       "17          1       2              Williams, Mr. Charles Eugene    0  NaN   \n",
       "19          1       3                   Masselmani, Mrs. Fatima    1  NaN   \n",
       "26          0       3                   Emir, Mr. Farred Chehab    0  NaN   \n",
       "28          1       3             O'Dwyer, Miss. Ellen \"Nellie\"    1  NaN   \n",
       "..        ...     ...                                       ...  ...  ...   \n",
       "859         0       3                          Razi, Mr. Raihed    0  NaN   \n",
       "863         0       3         Sage, Miss. Dorothy Edith \"Dolly\"    1  NaN   \n",
       "868         0       3               van Melkebeke, Mr. Philemon    0  NaN   \n",
       "878         0       3                        Laleff, Mr. Kristo    0  NaN   \n",
       "888         0       3  Johnston, Miss. Catherine Helen \"Carrie\"    1  NaN   \n",
       "\n",
       "     SibSp  Parch     Fare Embarked  \n",
       "5        0      0   8.4583        Q  \n",
       "17       0      0  13.0000        S  \n",
       "19       0      0   7.2250        C  \n",
       "26       0      0   7.2250        C  \n",
       "28       0      0   7.8792        Q  \n",
       "..     ...    ...      ...      ...  \n",
       "859      0      0   7.2292        C  \n",
       "863      8      2  69.5500        S  \n",
       "868      0      0   9.5000        S  \n",
       "878      0      0   7.8958        S  \n",
       "888      1      2  23.4500        S  \n",
       "\n",
       "[177 rows x 9 columns]"
      ]
     },
     "execution_count": 27,
     "metadata": {},
     "output_type": "execute_result"
    }
   ],
   "source": [
    "train_dff[train_dff['Age'].isnull()]"
   ]
  },
  {
   "cell_type": "code",
   "execution_count": 28,
   "id": "3ac5d73a",
   "metadata": {
    "execution": {
     "iopub.execute_input": "2022-03-23T16:16:33.960361Z",
     "iopub.status.busy": "2022-03-23T16:16:33.959657Z",
     "iopub.status.idle": "2022-03-23T16:16:33.965683Z",
     "shell.execute_reply": "2022-03-23T16:16:33.966302Z",
     "shell.execute_reply.started": "2022-03-23T16:06:46.580164Z"
    },
    "papermill": {
     "duration": 0.101804,
     "end_time": "2022-03-23T16:16:33.966494",
     "exception": false,
     "start_time": "2022-03-23T16:16:33.864690",
     "status": "completed"
    },
    "tags": []
   },
   "outputs": [],
   "source": [
    "nulls = train_dff[train_dff['Age'].isnull()]\n",
    "nulls2 = test_dff[test_dff['Age'].isnull()]\n",
    "nulls = list(nulls['Name'])\n",
    "nulls2 = list(nulls2['Name'])"
   ]
  },
  {
   "cell_type": "code",
   "execution_count": 29,
   "id": "4ba3371c",
   "metadata": {
    "execution": {
     "iopub.execute_input": "2022-03-23T16:16:34.240036Z",
     "iopub.status.busy": "2022-03-23T16:16:34.239346Z",
     "iopub.status.idle": "2022-03-23T16:16:34.243878Z",
     "shell.execute_reply": "2022-03-23T16:16:34.243358Z",
     "shell.execute_reply.started": "2022-03-23T16:06:46.595024Z"
    },
    "papermill": {
     "duration": 0.184602,
     "end_time": "2022-03-23T16:16:34.244025",
     "exception": false,
     "start_time": "2022-03-23T16:16:34.059423",
     "status": "completed"
    },
    "tags": []
   },
   "outputs": [],
   "source": [
    "# Fill Age in train data with 2 several random ratios, if the person survived it will get age from 22 to 36 \n",
    "# and if he survived he will get age from 37 to 60\n",
    "for i, c in enumerate(train_dff['Survived']):\n",
    "    if train_dff.loc[i,'Name'] in nulls: \n",
    "        if c == 0:\n",
    "            train_dff.loc[i,'Age'] =  np.random.randint(22, 36) # Youth\n",
    "        else:\n",
    "            train_dff.loc[i,'Age'] =  np.random.randint(37, 60) # Elder"
   ]
  },
  {
   "cell_type": "code",
   "execution_count": 30,
   "id": "963b971c",
   "metadata": {
    "execution": {
     "iopub.execute_input": "2022-03-23T16:16:34.453885Z",
     "iopub.status.busy": "2022-03-23T16:16:34.452764Z",
     "iopub.status.idle": "2022-03-23T16:16:34.458486Z",
     "shell.execute_reply": "2022-03-23T16:16:34.459097Z",
     "shell.execute_reply.started": "2022-03-23T16:06:46.675421Z"
    },
    "papermill": {
     "duration": 0.121648,
     "end_time": "2022-03-23T16:16:34.459273",
     "exception": false,
     "start_time": "2022-03-23T16:16:34.337625",
     "status": "completed"
    },
    "tags": []
   },
   "outputs": [],
   "source": [
    "for i, c in enumerate(test_dff['Name']):\n",
    "    if c in nulls2:\n",
    "        test_dff.loc[i,'Age'] =  np.random.randint(16, 50)"
   ]
  },
  {
   "cell_type": "code",
   "execution_count": 31,
   "id": "67b6e5ec",
   "metadata": {
    "execution": {
     "iopub.execute_input": "2022-03-23T16:16:34.648355Z",
     "iopub.status.busy": "2022-03-23T16:16:34.647341Z",
     "iopub.status.idle": "2022-03-23T16:16:34.653703Z",
     "shell.execute_reply": "2022-03-23T16:16:34.654336Z",
     "shell.execute_reply.started": "2022-03-23T16:06:46.706151Z"
    },
    "papermill": {
     "duration": 0.10255,
     "end_time": "2022-03-23T16:16:34.654515",
     "exception": false,
     "start_time": "2022-03-23T16:16:34.551965",
     "status": "completed"
    },
    "tags": []
   },
   "outputs": [
    {
     "name": "stdout",
     "output_type": "stream",
     "text": [
      "0\n",
      "0\n"
     ]
    }
   ],
   "source": [
    "print(train_dff.Age.isnull().sum())\n",
    "print(test_dff.Age.isnull().sum())"
   ]
  },
  {
   "cell_type": "markdown",
   "id": "6df3ae54",
   "metadata": {
    "papermill": {
     "duration": 0.093962,
     "end_time": "2022-03-23T16:16:34.841793",
     "exception": false,
     "start_time": "2022-03-23T16:16:34.747831",
     "status": "completed"
    },
    "tags": []
   },
   "source": [
    "# let's create Age bands then convert age feature to [0, 1, 2, 3, 4]"
   ]
  },
  {
   "cell_type": "code",
   "execution_count": 32,
   "id": "aa7b1703",
   "metadata": {
    "execution": {
     "iopub.execute_input": "2022-03-23T16:16:35.056838Z",
     "iopub.status.busy": "2022-03-23T16:16:35.049092Z",
     "iopub.status.idle": "2022-03-23T16:16:35.061014Z",
     "shell.execute_reply": "2022-03-23T16:16:35.060506Z",
     "shell.execute_reply.started": "2022-03-23T16:06:46.716415Z"
    },
    "papermill": {
     "duration": 0.126045,
     "end_time": "2022-03-23T16:16:35.061200",
     "exception": false,
     "start_time": "2022-03-23T16:16:34.935155",
     "status": "completed"
    },
    "tags": []
   },
   "outputs": [
    {
     "data": {
      "text/html": [
       "<div>\n",
       "<style scoped>\n",
       "    .dataframe tbody tr th:only-of-type {\n",
       "        vertical-align: middle;\n",
       "    }\n",
       "\n",
       "    .dataframe tbody tr th {\n",
       "        vertical-align: top;\n",
       "    }\n",
       "\n",
       "    .dataframe thead th {\n",
       "        text-align: right;\n",
       "    }\n",
       "</style>\n",
       "<table border=\"1\" class=\"dataframe\">\n",
       "  <thead>\n",
       "    <tr style=\"text-align: right;\">\n",
       "      <th></th>\n",
       "      <th>AgeBand</th>\n",
       "      <th>Survived</th>\n",
       "    </tr>\n",
       "  </thead>\n",
       "  <tbody>\n",
       "    <tr>\n",
       "      <th>0</th>\n",
       "      <td>(0.34, 16.336]</td>\n",
       "      <td>0.550000</td>\n",
       "    </tr>\n",
       "    <tr>\n",
       "      <th>1</th>\n",
       "      <td>(16.336, 32.252]</td>\n",
       "      <td>0.288288</td>\n",
       "    </tr>\n",
       "    <tr>\n",
       "      <th>2</th>\n",
       "      <td>(32.252, 48.168]</td>\n",
       "      <td>0.430328</td>\n",
       "    </tr>\n",
       "    <tr>\n",
       "      <th>3</th>\n",
       "      <td>(48.168, 64.084]</td>\n",
       "      <td>0.576087</td>\n",
       "    </tr>\n",
       "    <tr>\n",
       "      <th>4</th>\n",
       "      <td>(64.084, 80.0]</td>\n",
       "      <td>0.090909</td>\n",
       "    </tr>\n",
       "  </tbody>\n",
       "</table>\n",
       "</div>"
      ],
      "text/plain": [
       "            AgeBand  Survived\n",
       "0    (0.34, 16.336]  0.550000\n",
       "1  (16.336, 32.252]  0.288288\n",
       "2  (32.252, 48.168]  0.430328\n",
       "3  (48.168, 64.084]  0.576087\n",
       "4    (64.084, 80.0]  0.090909"
      ]
     },
     "execution_count": 32,
     "metadata": {},
     "output_type": "execute_result"
    }
   ],
   "source": [
    "# This code isn't important i was just practice how may i make bands when i need \n",
    "\n",
    "train_dff['AgeBand'] = pd.cut(train_dff['Age'], 5)\n",
    "train_dff[['AgeBand', 'Survived']].groupby(['AgeBand'], as_index=False).mean().sort_values(by='AgeBand', ascending=True)\n"
   ]
  },
  {
   "cell_type": "code",
   "execution_count": 33,
   "id": "055389d3",
   "metadata": {
    "execution": {
     "iopub.execute_input": "2022-03-23T16:16:35.254689Z",
     "iopub.status.busy": "2022-03-23T16:16:35.251245Z",
     "iopub.status.idle": "2022-03-23T16:16:35.277096Z",
     "shell.execute_reply": "2022-03-23T16:16:35.276518Z",
     "shell.execute_reply.started": "2022-03-23T16:06:46.742175Z"
    },
    "papermill": {
     "duration": 0.122621,
     "end_time": "2022-03-23T16:16:35.277236",
     "exception": false,
     "start_time": "2022-03-23T16:16:35.154615",
     "status": "completed"
    },
    "tags": []
   },
   "outputs": [
    {
     "data": {
      "text/html": [
       "<div>\n",
       "<style scoped>\n",
       "    .dataframe tbody tr th:only-of-type {\n",
       "        vertical-align: middle;\n",
       "    }\n",
       "\n",
       "    .dataframe tbody tr th {\n",
       "        vertical-align: top;\n",
       "    }\n",
       "\n",
       "    .dataframe thead th {\n",
       "        text-align: right;\n",
       "    }\n",
       "</style>\n",
       "<table border=\"1\" class=\"dataframe\">\n",
       "  <thead>\n",
       "    <tr style=\"text-align: right;\">\n",
       "      <th></th>\n",
       "      <th>Survived</th>\n",
       "      <th>Pclass</th>\n",
       "      <th>Name</th>\n",
       "      <th>Sex</th>\n",
       "      <th>Age</th>\n",
       "      <th>SibSp</th>\n",
       "      <th>Parch</th>\n",
       "      <th>Fare</th>\n",
       "      <th>Embarked</th>\n",
       "      <th>AgeBand</th>\n",
       "    </tr>\n",
       "  </thead>\n",
       "  <tbody>\n",
       "    <tr>\n",
       "      <th>7</th>\n",
       "      <td>0</td>\n",
       "      <td>3</td>\n",
       "      <td>Palsson, Master. Gosta Leonard</td>\n",
       "      <td>0</td>\n",
       "      <td>2.00</td>\n",
       "      <td>3</td>\n",
       "      <td>1</td>\n",
       "      <td>21.0750</td>\n",
       "      <td>S</td>\n",
       "      <td>(0.34, 16.336]</td>\n",
       "    </tr>\n",
       "    <tr>\n",
       "      <th>9</th>\n",
       "      <td>1</td>\n",
       "      <td>2</td>\n",
       "      <td>Nasser, Mrs. Nicholas (Adele Achem)</td>\n",
       "      <td>1</td>\n",
       "      <td>14.00</td>\n",
       "      <td>1</td>\n",
       "      <td>0</td>\n",
       "      <td>30.0708</td>\n",
       "      <td>C</td>\n",
       "      <td>(0.34, 16.336]</td>\n",
       "    </tr>\n",
       "    <tr>\n",
       "      <th>10</th>\n",
       "      <td>1</td>\n",
       "      <td>3</td>\n",
       "      <td>Sandstrom, Miss. Marguerite Rut</td>\n",
       "      <td>1</td>\n",
       "      <td>4.00</td>\n",
       "      <td>1</td>\n",
       "      <td>1</td>\n",
       "      <td>16.7000</td>\n",
       "      <td>S</td>\n",
       "      <td>(0.34, 16.336]</td>\n",
       "    </tr>\n",
       "    <tr>\n",
       "      <th>14</th>\n",
       "      <td>0</td>\n",
       "      <td>3</td>\n",
       "      <td>Vestrom, Miss. Hulda Amanda Adolfina</td>\n",
       "      <td>1</td>\n",
       "      <td>14.00</td>\n",
       "      <td>0</td>\n",
       "      <td>0</td>\n",
       "      <td>7.8542</td>\n",
       "      <td>S</td>\n",
       "      <td>(0.34, 16.336]</td>\n",
       "    </tr>\n",
       "    <tr>\n",
       "      <th>16</th>\n",
       "      <td>0</td>\n",
       "      <td>3</td>\n",
       "      <td>Rice, Master. Eugene</td>\n",
       "      <td>0</td>\n",
       "      <td>2.00</td>\n",
       "      <td>4</td>\n",
       "      <td>1</td>\n",
       "      <td>29.1250</td>\n",
       "      <td>Q</td>\n",
       "      <td>(0.34, 16.336]</td>\n",
       "    </tr>\n",
       "    <tr>\n",
       "      <th>...</th>\n",
       "      <td>...</td>\n",
       "      <td>...</td>\n",
       "      <td>...</td>\n",
       "      <td>...</td>\n",
       "      <td>...</td>\n",
       "      <td>...</td>\n",
       "      <td>...</td>\n",
       "      <td>...</td>\n",
       "      <td>...</td>\n",
       "      <td>...</td>\n",
       "    </tr>\n",
       "    <tr>\n",
       "      <th>831</th>\n",
       "      <td>1</td>\n",
       "      <td>2</td>\n",
       "      <td>Richards, Master. George Sibley</td>\n",
       "      <td>0</td>\n",
       "      <td>0.83</td>\n",
       "      <td>1</td>\n",
       "      <td>1</td>\n",
       "      <td>18.7500</td>\n",
       "      <td>S</td>\n",
       "      <td>(0.34, 16.336]</td>\n",
       "    </tr>\n",
       "    <tr>\n",
       "      <th>850</th>\n",
       "      <td>0</td>\n",
       "      <td>3</td>\n",
       "      <td>Andersson, Master. Sigvard Harald Elias</td>\n",
       "      <td>0</td>\n",
       "      <td>4.00</td>\n",
       "      <td>4</td>\n",
       "      <td>2</td>\n",
       "      <td>31.2750</td>\n",
       "      <td>S</td>\n",
       "      <td>(0.34, 16.336]</td>\n",
       "    </tr>\n",
       "    <tr>\n",
       "      <th>852</th>\n",
       "      <td>0</td>\n",
       "      <td>3</td>\n",
       "      <td>Boulos, Miss. Nourelain</td>\n",
       "      <td>1</td>\n",
       "      <td>9.00</td>\n",
       "      <td>1</td>\n",
       "      <td>1</td>\n",
       "      <td>15.2458</td>\n",
       "      <td>C</td>\n",
       "      <td>(0.34, 16.336]</td>\n",
       "    </tr>\n",
       "    <tr>\n",
       "      <th>869</th>\n",
       "      <td>1</td>\n",
       "      <td>3</td>\n",
       "      <td>Johnson, Master. Harold Theodor</td>\n",
       "      <td>0</td>\n",
       "      <td>4.00</td>\n",
       "      <td>1</td>\n",
       "      <td>1</td>\n",
       "      <td>11.1333</td>\n",
       "      <td>S</td>\n",
       "      <td>(0.34, 16.336]</td>\n",
       "    </tr>\n",
       "    <tr>\n",
       "      <th>875</th>\n",
       "      <td>1</td>\n",
       "      <td>3</td>\n",
       "      <td>Najib, Miss. Adele Kiamie \"Jane\"</td>\n",
       "      <td>1</td>\n",
       "      <td>15.00</td>\n",
       "      <td>0</td>\n",
       "      <td>0</td>\n",
       "      <td>7.2250</td>\n",
       "      <td>C</td>\n",
       "      <td>(0.34, 16.336]</td>\n",
       "    </tr>\n",
       "  </tbody>\n",
       "</table>\n",
       "<p>83 rows × 10 columns</p>\n",
       "</div>"
      ],
      "text/plain": [
       "     Survived  Pclass                                     Name  Sex    Age  \\\n",
       "7           0       3           Palsson, Master. Gosta Leonard    0   2.00   \n",
       "9           1       2      Nasser, Mrs. Nicholas (Adele Achem)    1  14.00   \n",
       "10          1       3          Sandstrom, Miss. Marguerite Rut    1   4.00   \n",
       "14          0       3     Vestrom, Miss. Hulda Amanda Adolfina    1  14.00   \n",
       "16          0       3                     Rice, Master. Eugene    0   2.00   \n",
       "..        ...     ...                                      ...  ...    ...   \n",
       "831         1       2          Richards, Master. George Sibley    0   0.83   \n",
       "850         0       3  Andersson, Master. Sigvard Harald Elias    0   4.00   \n",
       "852         0       3                  Boulos, Miss. Nourelain    1   9.00   \n",
       "869         1       3          Johnson, Master. Harold Theodor    0   4.00   \n",
       "875         1       3         Najib, Miss. Adele Kiamie \"Jane\"    1  15.00   \n",
       "\n",
       "     SibSp  Parch     Fare Embarked         AgeBand  \n",
       "7        3      1  21.0750        S  (0.34, 16.336]  \n",
       "9        1      0  30.0708        C  (0.34, 16.336]  \n",
       "10       1      1  16.7000        S  (0.34, 16.336]  \n",
       "14       0      0   7.8542        S  (0.34, 16.336]  \n",
       "16       4      1  29.1250        Q  (0.34, 16.336]  \n",
       "..     ...    ...      ...      ...             ...  \n",
       "831      1      1  18.7500        S  (0.34, 16.336]  \n",
       "850      4      2  31.2750        S  (0.34, 16.336]  \n",
       "852      1      1  15.2458        C  (0.34, 16.336]  \n",
       "869      1      1  11.1333        S  (0.34, 16.336]  \n",
       "875      0      0   7.2250        C  (0.34, 16.336]  \n",
       "\n",
       "[83 rows x 10 columns]"
      ]
     },
     "execution_count": 33,
     "metadata": {},
     "output_type": "execute_result"
    }
   ],
   "source": [
    "train_dff[train_dff['Age'] < 16]"
   ]
  },
  {
   "cell_type": "code",
   "execution_count": 34,
   "id": "eea968de",
   "metadata": {
    "execution": {
     "iopub.execute_input": "2022-03-23T16:16:35.478354Z",
     "iopub.status.busy": "2022-03-23T16:16:35.470070Z",
     "iopub.status.idle": "2022-03-23T16:16:35.498652Z",
     "shell.execute_reply": "2022-03-23T16:16:35.497984Z",
     "shell.execute_reply.started": "2022-03-23T16:06:46.769290Z"
    },
    "papermill": {
     "duration": 0.126007,
     "end_time": "2022-03-23T16:16:35.498791",
     "exception": false,
     "start_time": "2022-03-23T16:16:35.372784",
     "status": "completed"
    },
    "tags": []
   },
   "outputs": [
    {
     "data": {
      "text/html": [
       "<div>\n",
       "<style scoped>\n",
       "    .dataframe tbody tr th:only-of-type {\n",
       "        vertical-align: middle;\n",
       "    }\n",
       "\n",
       "    .dataframe tbody tr th {\n",
       "        vertical-align: top;\n",
       "    }\n",
       "\n",
       "    .dataframe thead th {\n",
       "        text-align: right;\n",
       "    }\n",
       "</style>\n",
       "<table border=\"1\" class=\"dataframe\">\n",
       "  <thead>\n",
       "    <tr style=\"text-align: right;\">\n",
       "      <th></th>\n",
       "      <th>Survived</th>\n",
       "      <th>Pclass</th>\n",
       "      <th>Name</th>\n",
       "      <th>Sex</th>\n",
       "      <th>Age</th>\n",
       "      <th>SibSp</th>\n",
       "      <th>Parch</th>\n",
       "      <th>Fare</th>\n",
       "      <th>Embarked</th>\n",
       "      <th>AgeBand</th>\n",
       "    </tr>\n",
       "  </thead>\n",
       "  <tbody>\n",
       "    <tr>\n",
       "      <th>0</th>\n",
       "      <td>0</td>\n",
       "      <td>3</td>\n",
       "      <td>Braund, Mr. Owen Harris</td>\n",
       "      <td>0</td>\n",
       "      <td>1.0</td>\n",
       "      <td>1</td>\n",
       "      <td>0</td>\n",
       "      <td>7.2500</td>\n",
       "      <td>S</td>\n",
       "      <td>(16.336, 32.252]</td>\n",
       "    </tr>\n",
       "    <tr>\n",
       "      <th>1</th>\n",
       "      <td>1</td>\n",
       "      <td>1</td>\n",
       "      <td>Cumings, Mrs. John Bradley (Florence Briggs Th...</td>\n",
       "      <td>1</td>\n",
       "      <td>2.0</td>\n",
       "      <td>1</td>\n",
       "      <td>0</td>\n",
       "      <td>71.2833</td>\n",
       "      <td>C</td>\n",
       "      <td>(32.252, 48.168]</td>\n",
       "    </tr>\n",
       "    <tr>\n",
       "      <th>2</th>\n",
       "      <td>1</td>\n",
       "      <td>3</td>\n",
       "      <td>Heikkinen, Miss. Laina</td>\n",
       "      <td>1</td>\n",
       "      <td>1.0</td>\n",
       "      <td>0</td>\n",
       "      <td>0</td>\n",
       "      <td>7.9250</td>\n",
       "      <td>S</td>\n",
       "      <td>(16.336, 32.252]</td>\n",
       "    </tr>\n",
       "    <tr>\n",
       "      <th>3</th>\n",
       "      <td>1</td>\n",
       "      <td>1</td>\n",
       "      <td>Futrelle, Mrs. Jacques Heath (Lily May Peel)</td>\n",
       "      <td>1</td>\n",
       "      <td>2.0</td>\n",
       "      <td>1</td>\n",
       "      <td>0</td>\n",
       "      <td>53.1000</td>\n",
       "      <td>S</td>\n",
       "      <td>(32.252, 48.168]</td>\n",
       "    </tr>\n",
       "    <tr>\n",
       "      <th>4</th>\n",
       "      <td>0</td>\n",
       "      <td>3</td>\n",
       "      <td>Allen, Mr. William Henry</td>\n",
       "      <td>0</td>\n",
       "      <td>2.0</td>\n",
       "      <td>0</td>\n",
       "      <td>0</td>\n",
       "      <td>8.0500</td>\n",
       "      <td>S</td>\n",
       "      <td>(32.252, 48.168]</td>\n",
       "    </tr>\n",
       "  </tbody>\n",
       "</table>\n",
       "</div>"
      ],
      "text/plain": [
       "   Survived  Pclass                                               Name  Sex  \\\n",
       "0         0       3                            Braund, Mr. Owen Harris    0   \n",
       "1         1       1  Cumings, Mrs. John Bradley (Florence Briggs Th...    1   \n",
       "2         1       3                             Heikkinen, Miss. Laina    1   \n",
       "3         1       1       Futrelle, Mrs. Jacques Heath (Lily May Peel)    1   \n",
       "4         0       3                           Allen, Mr. William Henry    0   \n",
       "\n",
       "   Age  SibSp  Parch     Fare Embarked           AgeBand  \n",
       "0  1.0      1      0   7.2500        S  (16.336, 32.252]  \n",
       "1  2.0      1      0  71.2833        C  (32.252, 48.168]  \n",
       "2  1.0      0      0   7.9250        S  (16.336, 32.252]  \n",
       "3  2.0      1      0  53.1000        S  (32.252, 48.168]  \n",
       "4  2.0      0      0   8.0500        S  (32.252, 48.168]  "
      ]
     },
     "execution_count": 34,
     "metadata": {},
     "output_type": "execute_result"
    }
   ],
   "source": [
    "for dataset in combine:    \n",
    "    dataset.loc[ dataset['Age'] <= 16, 'Age'] = 0\n",
    "    dataset.loc[(dataset['Age'] > 16) & (dataset['Age'] <= 32), 'Age'] = 1\n",
    "    dataset.loc[(dataset['Age'] > 32) & (dataset['Age'] <= 48), 'Age'] = 2\n",
    "    dataset.loc[(dataset['Age'] > 48) & (dataset['Age'] <= 64), 'Age'] = 3\n",
    "    dataset.loc[ dataset['Age'] > 64, 'Age'] = 4\n",
    "train_dff.head()"
   ]
  },
  {
   "cell_type": "code",
   "execution_count": 35,
   "id": "99302e4d",
   "metadata": {
    "execution": {
     "iopub.execute_input": "2022-03-23T16:16:35.704599Z",
     "iopub.status.busy": "2022-03-23T16:16:35.703921Z",
     "iopub.status.idle": "2022-03-23T16:16:35.708126Z",
     "shell.execute_reply": "2022-03-23T16:16:35.707507Z",
     "shell.execute_reply.started": "2022-03-23T16:06:46.797615Z"
    },
    "papermill": {
     "duration": 0.114137,
     "end_time": "2022-03-23T16:16:35.708281",
     "exception": false,
     "start_time": "2022-03-23T16:16:35.594144",
     "status": "completed"
    },
    "tags": []
   },
   "outputs": [
    {
     "data": {
      "text/html": [
       "<div>\n",
       "<style scoped>\n",
       "    .dataframe tbody tr th:only-of-type {\n",
       "        vertical-align: middle;\n",
       "    }\n",
       "\n",
       "    .dataframe tbody tr th {\n",
       "        vertical-align: top;\n",
       "    }\n",
       "\n",
       "    .dataframe thead th {\n",
       "        text-align: right;\n",
       "    }\n",
       "</style>\n",
       "<table border=\"1\" class=\"dataframe\">\n",
       "  <thead>\n",
       "    <tr style=\"text-align: right;\">\n",
       "      <th></th>\n",
       "      <th>Survived</th>\n",
       "      <th>Pclass</th>\n",
       "      <th>Name</th>\n",
       "      <th>Sex</th>\n",
       "      <th>Age</th>\n",
       "      <th>SibSp</th>\n",
       "      <th>Parch</th>\n",
       "      <th>Fare</th>\n",
       "      <th>Embarked</th>\n",
       "    </tr>\n",
       "  </thead>\n",
       "  <tbody>\n",
       "    <tr>\n",
       "      <th>0</th>\n",
       "      <td>0</td>\n",
       "      <td>3</td>\n",
       "      <td>Braund, Mr. Owen Harris</td>\n",
       "      <td>0</td>\n",
       "      <td>1.0</td>\n",
       "      <td>1</td>\n",
       "      <td>0</td>\n",
       "      <td>7.2500</td>\n",
       "      <td>S</td>\n",
       "    </tr>\n",
       "    <tr>\n",
       "      <th>1</th>\n",
       "      <td>1</td>\n",
       "      <td>1</td>\n",
       "      <td>Cumings, Mrs. John Bradley (Florence Briggs Th...</td>\n",
       "      <td>1</td>\n",
       "      <td>2.0</td>\n",
       "      <td>1</td>\n",
       "      <td>0</td>\n",
       "      <td>71.2833</td>\n",
       "      <td>C</td>\n",
       "    </tr>\n",
       "    <tr>\n",
       "      <th>2</th>\n",
       "      <td>1</td>\n",
       "      <td>3</td>\n",
       "      <td>Heikkinen, Miss. Laina</td>\n",
       "      <td>1</td>\n",
       "      <td>1.0</td>\n",
       "      <td>0</td>\n",
       "      <td>0</td>\n",
       "      <td>7.9250</td>\n",
       "      <td>S</td>\n",
       "    </tr>\n",
       "    <tr>\n",
       "      <th>3</th>\n",
       "      <td>1</td>\n",
       "      <td>1</td>\n",
       "      <td>Futrelle, Mrs. Jacques Heath (Lily May Peel)</td>\n",
       "      <td>1</td>\n",
       "      <td>2.0</td>\n",
       "      <td>1</td>\n",
       "      <td>0</td>\n",
       "      <td>53.1000</td>\n",
       "      <td>S</td>\n",
       "    </tr>\n",
       "    <tr>\n",
       "      <th>4</th>\n",
       "      <td>0</td>\n",
       "      <td>3</td>\n",
       "      <td>Allen, Mr. William Henry</td>\n",
       "      <td>0</td>\n",
       "      <td>2.0</td>\n",
       "      <td>0</td>\n",
       "      <td>0</td>\n",
       "      <td>8.0500</td>\n",
       "      <td>S</td>\n",
       "    </tr>\n",
       "  </tbody>\n",
       "</table>\n",
       "</div>"
      ],
      "text/plain": [
       "   Survived  Pclass                                               Name  Sex  \\\n",
       "0         0       3                            Braund, Mr. Owen Harris    0   \n",
       "1         1       1  Cumings, Mrs. John Bradley (Florence Briggs Th...    1   \n",
       "2         1       3                             Heikkinen, Miss. Laina    1   \n",
       "3         1       1       Futrelle, Mrs. Jacques Heath (Lily May Peel)    1   \n",
       "4         0       3                           Allen, Mr. William Henry    0   \n",
       "\n",
       "   Age  SibSp  Parch     Fare Embarked  \n",
       "0  1.0      1      0   7.2500        S  \n",
       "1  2.0      1      0  71.2833        C  \n",
       "2  1.0      0      0   7.9250        S  \n",
       "3  2.0      1      0  53.1000        S  \n",
       "4  2.0      0      0   8.0500        S  "
      ]
     },
     "execution_count": 35,
     "metadata": {},
     "output_type": "execute_result"
    }
   ],
   "source": [
    "train_dff = train_dff.drop(['AgeBand'], axis=1)\n",
    "combine = [train_dff, test_dff]\n",
    "train_dff.head()"
   ]
  },
  {
   "cell_type": "code",
   "execution_count": 36,
   "id": "6679bede",
   "metadata": {
    "execution": {
     "iopub.execute_input": "2022-03-23T16:16:35.907719Z",
     "iopub.status.busy": "2022-03-23T16:16:35.906646Z",
     "iopub.status.idle": "2022-03-23T16:16:35.911095Z",
     "shell.execute_reply": "2022-03-23T16:16:35.910503Z",
     "shell.execute_reply.started": "2022-03-23T16:06:46.815236Z"
    },
    "papermill": {
     "duration": 0.107022,
     "end_time": "2022-03-23T16:16:35.911250",
     "exception": false,
     "start_time": "2022-03-23T16:16:35.804228",
     "status": "completed"
    },
    "tags": []
   },
   "outputs": [
    {
     "data": {
      "text/plain": [
       "array([2., 3., 1., 0., 4.])"
      ]
     },
     "execution_count": 36,
     "metadata": {},
     "output_type": "execute_result"
    }
   ],
   "source": [
    "train_dff['Age'].unique()\n",
    "test_dff['Age'].unique()"
   ]
  },
  {
   "cell_type": "markdown",
   "id": "194d0042",
   "metadata": {
    "papermill": {
     "duration": 0.095779,
     "end_time": "2022-03-23T16:16:36.103462",
     "exception": false,
     "start_time": "2022-03-23T16:16:36.007683",
     "status": "completed"
    },
    "tags": []
   },
   "source": [
    "# I'll create family feature which is combination between sibling and parch"
   ]
  },
  {
   "cell_type": "code",
   "execution_count": 37,
   "id": "4741192e",
   "metadata": {
    "execution": {
     "iopub.execute_input": "2022-03-23T16:16:36.300960Z",
     "iopub.status.busy": "2022-03-23T16:16:36.299923Z",
     "iopub.status.idle": "2022-03-23T16:16:36.305926Z",
     "shell.execute_reply": "2022-03-23T16:16:36.306534Z",
     "shell.execute_reply.started": "2022-03-23T16:06:46.828188Z"
    },
    "papermill": {
     "duration": 0.106281,
     "end_time": "2022-03-23T16:16:36.306725",
     "exception": false,
     "start_time": "2022-03-23T16:16:36.200444",
     "status": "completed"
    },
    "tags": []
   },
   "outputs": [],
   "source": [
    "for dataset in combine:\n",
    "    dataset['Family'] = dataset['SibSp'] + dataset['Parch'] "
   ]
  },
  {
   "cell_type": "code",
   "execution_count": 38,
   "id": "e0644328",
   "metadata": {
    "execution": {
     "iopub.execute_input": "2022-03-23T16:16:36.501773Z",
     "iopub.status.busy": "2022-03-23T16:16:36.500719Z",
     "iopub.status.idle": "2022-03-23T16:16:36.515493Z",
     "shell.execute_reply": "2022-03-23T16:16:36.516082Z",
     "shell.execute_reply.started": "2022-03-23T16:06:46.840260Z"
    },
    "papermill": {
     "duration": 0.114008,
     "end_time": "2022-03-23T16:16:36.516254",
     "exception": false,
     "start_time": "2022-03-23T16:16:36.402246",
     "status": "completed"
    },
    "tags": []
   },
   "outputs": [
    {
     "data": {
      "text/html": [
       "<div>\n",
       "<style scoped>\n",
       "    .dataframe tbody tr th:only-of-type {\n",
       "        vertical-align: middle;\n",
       "    }\n",
       "\n",
       "    .dataframe tbody tr th {\n",
       "        vertical-align: top;\n",
       "    }\n",
       "\n",
       "    .dataframe thead th {\n",
       "        text-align: right;\n",
       "    }\n",
       "</style>\n",
       "<table border=\"1\" class=\"dataframe\">\n",
       "  <thead>\n",
       "    <tr style=\"text-align: right;\">\n",
       "      <th></th>\n",
       "      <th>Family</th>\n",
       "      <th>Survived</th>\n",
       "    </tr>\n",
       "  </thead>\n",
       "  <tbody>\n",
       "    <tr>\n",
       "      <th>3</th>\n",
       "      <td>3</td>\n",
       "      <td>0.724138</td>\n",
       "    </tr>\n",
       "    <tr>\n",
       "      <th>2</th>\n",
       "      <td>2</td>\n",
       "      <td>0.578431</td>\n",
       "    </tr>\n",
       "    <tr>\n",
       "      <th>1</th>\n",
       "      <td>1</td>\n",
       "      <td>0.552795</td>\n",
       "    </tr>\n",
       "    <tr>\n",
       "      <th>6</th>\n",
       "      <td>6</td>\n",
       "      <td>0.333333</td>\n",
       "    </tr>\n",
       "    <tr>\n",
       "      <th>0</th>\n",
       "      <td>0</td>\n",
       "      <td>0.303538</td>\n",
       "    </tr>\n",
       "    <tr>\n",
       "      <th>4</th>\n",
       "      <td>4</td>\n",
       "      <td>0.200000</td>\n",
       "    </tr>\n",
       "    <tr>\n",
       "      <th>5</th>\n",
       "      <td>5</td>\n",
       "      <td>0.136364</td>\n",
       "    </tr>\n",
       "    <tr>\n",
       "      <th>7</th>\n",
       "      <td>7</td>\n",
       "      <td>0.000000</td>\n",
       "    </tr>\n",
       "    <tr>\n",
       "      <th>8</th>\n",
       "      <td>10</td>\n",
       "      <td>0.000000</td>\n",
       "    </tr>\n",
       "  </tbody>\n",
       "</table>\n",
       "</div>"
      ],
      "text/plain": [
       "   Family  Survived\n",
       "3       3  0.724138\n",
       "2       2  0.578431\n",
       "1       1  0.552795\n",
       "6       6  0.333333\n",
       "0       0  0.303538\n",
       "4       4  0.200000\n",
       "5       5  0.136364\n",
       "7       7  0.000000\n",
       "8      10  0.000000"
      ]
     },
     "execution_count": 38,
     "metadata": {},
     "output_type": "execute_result"
    }
   ],
   "source": [
    "train_dff[['Family', 'Survived']].groupby(['Family'], as_index=False).mean().sort_values(by='Survived', ascending=False)"
   ]
  },
  {
   "cell_type": "code",
   "execution_count": 39,
   "id": "01e56ea1",
   "metadata": {
    "execution": {
     "iopub.execute_input": "2022-03-23T16:16:36.711862Z",
     "iopub.status.busy": "2022-03-23T16:16:36.710831Z",
     "iopub.status.idle": "2022-03-23T16:16:36.727249Z",
     "shell.execute_reply": "2022-03-23T16:16:36.727826Z",
     "shell.execute_reply.started": "2022-03-23T16:06:46.861150Z"
    },
    "papermill": {
     "duration": 0.115756,
     "end_time": "2022-03-23T16:16:36.728000",
     "exception": false,
     "start_time": "2022-03-23T16:16:36.612244",
     "status": "completed"
    },
    "tags": []
   },
   "outputs": [
    {
     "data": {
      "text/html": [
       "<div>\n",
       "<style scoped>\n",
       "    .dataframe tbody tr th:only-of-type {\n",
       "        vertical-align: middle;\n",
       "    }\n",
       "\n",
       "    .dataframe tbody tr th {\n",
       "        vertical-align: top;\n",
       "    }\n",
       "\n",
       "    .dataframe thead th {\n",
       "        text-align: right;\n",
       "    }\n",
       "</style>\n",
       "<table border=\"1\" class=\"dataframe\">\n",
       "  <thead>\n",
       "    <tr style=\"text-align: right;\">\n",
       "      <th></th>\n",
       "      <th>Survived</th>\n",
       "      <th>Pclass</th>\n",
       "      <th>Name</th>\n",
       "      <th>Sex</th>\n",
       "      <th>Age</th>\n",
       "      <th>Fare</th>\n",
       "      <th>Embarked</th>\n",
       "      <th>Family</th>\n",
       "    </tr>\n",
       "  </thead>\n",
       "  <tbody>\n",
       "    <tr>\n",
       "      <th>0</th>\n",
       "      <td>0</td>\n",
       "      <td>3</td>\n",
       "      <td>Braund, Mr. Owen Harris</td>\n",
       "      <td>0</td>\n",
       "      <td>1.0</td>\n",
       "      <td>7.2500</td>\n",
       "      <td>S</td>\n",
       "      <td>1</td>\n",
       "    </tr>\n",
       "    <tr>\n",
       "      <th>1</th>\n",
       "      <td>1</td>\n",
       "      <td>1</td>\n",
       "      <td>Cumings, Mrs. John Bradley (Florence Briggs Th...</td>\n",
       "      <td>1</td>\n",
       "      <td>2.0</td>\n",
       "      <td>71.2833</td>\n",
       "      <td>C</td>\n",
       "      <td>1</td>\n",
       "    </tr>\n",
       "    <tr>\n",
       "      <th>2</th>\n",
       "      <td>1</td>\n",
       "      <td>3</td>\n",
       "      <td>Heikkinen, Miss. Laina</td>\n",
       "      <td>1</td>\n",
       "      <td>1.0</td>\n",
       "      <td>7.9250</td>\n",
       "      <td>S</td>\n",
       "      <td>0</td>\n",
       "    </tr>\n",
       "    <tr>\n",
       "      <th>3</th>\n",
       "      <td>1</td>\n",
       "      <td>1</td>\n",
       "      <td>Futrelle, Mrs. Jacques Heath (Lily May Peel)</td>\n",
       "      <td>1</td>\n",
       "      <td>2.0</td>\n",
       "      <td>53.1000</td>\n",
       "      <td>S</td>\n",
       "      <td>1</td>\n",
       "    </tr>\n",
       "    <tr>\n",
       "      <th>4</th>\n",
       "      <td>0</td>\n",
       "      <td>3</td>\n",
       "      <td>Allen, Mr. William Henry</td>\n",
       "      <td>0</td>\n",
       "      <td>2.0</td>\n",
       "      <td>8.0500</td>\n",
       "      <td>S</td>\n",
       "      <td>0</td>\n",
       "    </tr>\n",
       "  </tbody>\n",
       "</table>\n",
       "</div>"
      ],
      "text/plain": [
       "   Survived  Pclass                                               Name  Sex  \\\n",
       "0         0       3                            Braund, Mr. Owen Harris    0   \n",
       "1         1       1  Cumings, Mrs. John Bradley (Florence Briggs Th...    1   \n",
       "2         1       3                             Heikkinen, Miss. Laina    1   \n",
       "3         1       1       Futrelle, Mrs. Jacques Heath (Lily May Peel)    1   \n",
       "4         0       3                           Allen, Mr. William Henry    0   \n",
       "\n",
       "   Age     Fare Embarked  Family  \n",
       "0  1.0   7.2500        S       1  \n",
       "1  2.0  71.2833        C       1  \n",
       "2  1.0   7.9250        S       0  \n",
       "3  2.0  53.1000        S       1  \n",
       "4  2.0   8.0500        S       0  "
      ]
     },
     "execution_count": 39,
     "metadata": {},
     "output_type": "execute_result"
    }
   ],
   "source": [
    "train_df = train_dff.drop(['Parch', 'SibSp'], axis=1)\n",
    "test_df = test_dff.drop(['Parch', 'SibSp'], axis=1)\n",
    "combine = [train_df, test_df]\n",
    "\n",
    "train_df.head()"
   ]
  },
  {
   "cell_type": "markdown",
   "id": "5ce5eed7",
   "metadata": {
    "papermill": {
     "duration": 0.097099,
     "end_time": "2022-03-23T16:16:36.922333",
     "exception": false,
     "start_time": "2022-03-23T16:16:36.825234",
     "status": "completed"
    },
    "tags": []
   },
   "source": [
    "# I'll make a flag feature return 1 if the passenger is alone"
   ]
  },
  {
   "cell_type": "code",
   "execution_count": 40,
   "id": "dc928074",
   "metadata": {
    "execution": {
     "iopub.execute_input": "2022-03-23T16:16:37.123896Z",
     "iopub.status.busy": "2022-03-23T16:16:37.123175Z",
     "iopub.status.idle": "2022-03-23T16:16:37.130497Z",
     "shell.execute_reply": "2022-03-23T16:16:37.129903Z",
     "shell.execute_reply.started": "2022-03-23T16:06:46.882478Z"
    },
    "papermill": {
     "duration": 0.110791,
     "end_time": "2022-03-23T16:16:37.130674",
     "exception": false,
     "start_time": "2022-03-23T16:16:37.019883",
     "status": "completed"
    },
    "tags": []
   },
   "outputs": [],
   "source": [
    "for dataset in combine:\n",
    "    dataset['Alone'] = 0\n",
    "    dataset.loc[train_df['Family'] == 0,'Alone'] = 1"
   ]
  },
  {
   "cell_type": "code",
   "execution_count": 41,
   "id": "7ec65eac",
   "metadata": {
    "execution": {
     "iopub.execute_input": "2022-03-23T16:16:37.332044Z",
     "iopub.status.busy": "2022-03-23T16:16:37.331344Z",
     "iopub.status.idle": "2022-03-23T16:16:37.333932Z",
     "shell.execute_reply": "2022-03-23T16:16:37.334460Z",
     "shell.execute_reply.started": "2022-03-23T16:06:46.897372Z"
    },
    "papermill": {
     "duration": 0.106363,
     "end_time": "2022-03-23T16:16:37.334638",
     "exception": false,
     "start_time": "2022-03-23T16:16:37.228275",
     "status": "completed"
    },
    "tags": []
   },
   "outputs": [
    {
     "data": {
      "text/plain": [
       "2"
      ]
     },
     "execution_count": 41,
     "metadata": {},
     "output_type": "execute_result"
    }
   ],
   "source": [
    "train_df['Embarked'].isnull().sum()"
   ]
  },
  {
   "cell_type": "code",
   "execution_count": 42,
   "id": "8924d04f",
   "metadata": {
    "execution": {
     "iopub.execute_input": "2022-03-23T16:16:37.535850Z",
     "iopub.status.busy": "2022-03-23T16:16:37.532034Z",
     "iopub.status.idle": "2022-03-23T16:16:37.538685Z",
     "shell.execute_reply": "2022-03-23T16:16:37.538165Z",
     "shell.execute_reply.started": "2022-03-23T16:06:46.905531Z"
    },
    "papermill": {
     "duration": 0.106493,
     "end_time": "2022-03-23T16:16:37.538829",
     "exception": false,
     "start_time": "2022-03-23T16:16:37.432336",
     "status": "completed"
    },
    "tags": []
   },
   "outputs": [],
   "source": [
    "train_df['Embarked'] = train_df['Embarked'].fillna(train_df['Embarked'].mode()[0])"
   ]
  },
  {
   "cell_type": "code",
   "execution_count": 43,
   "id": "1ff90713",
   "metadata": {
    "execution": {
     "iopub.execute_input": "2022-03-23T16:16:37.739900Z",
     "iopub.status.busy": "2022-03-23T16:16:37.739024Z",
     "iopub.status.idle": "2022-03-23T16:16:37.741039Z",
     "shell.execute_reply": "2022-03-23T16:16:37.741605Z",
     "shell.execute_reply.started": "2022-03-23T16:06:46.917829Z"
    },
    "papermill": {
     "duration": 0.105892,
     "end_time": "2022-03-23T16:16:37.741777",
     "exception": false,
     "start_time": "2022-03-23T16:16:37.635885",
     "status": "completed"
    },
    "tags": []
   },
   "outputs": [],
   "source": [
    "test_df['Fare'].fillna(test_df['Fare'].dropna().median(), inplace=True)"
   ]
  },
  {
   "cell_type": "code",
   "execution_count": 44,
   "id": "c5ab62f9",
   "metadata": {
    "execution": {
     "iopub.execute_input": "2022-03-23T16:16:37.943888Z",
     "iopub.status.busy": "2022-03-23T16:16:37.943241Z",
     "iopub.status.idle": "2022-03-23T16:16:38.265847Z",
     "shell.execute_reply": "2022-03-23T16:16:38.265184Z",
     "shell.execute_reply.started": "2022-03-23T16:06:46.932180Z"
    },
    "papermill": {
     "duration": 0.426357,
     "end_time": "2022-03-23T16:16:38.265989",
     "exception": false,
     "start_time": "2022-03-23T16:16:37.839632",
     "status": "completed"
    },
    "tags": []
   },
   "outputs": [
    {
     "name": "stderr",
     "output_type": "stream",
     "text": [
      "/opt/conda/lib/python3.7/site-packages/seaborn/distributions.py:2619: FutureWarning: `distplot` is a deprecated function and will be removed in a future version. Please adapt your code to use either `displot` (a figure-level function with similar flexibility) or `histplot` (an axes-level function for histograms).\n",
      "  warnings.warn(msg, FutureWarning)\n"
     ]
    },
    {
     "data": {
      "text/plain": [
       "<AxesSubplot:xlabel='Fare', ylabel='Density'>"
      ]
     },
     "execution_count": 44,
     "metadata": {},
     "output_type": "execute_result"
    },
    {
     "data": {
      "image/png": "[encoded data removed]",
      "text/plain": [
       "<Figure size 432x288 with 1 Axes>"
      ]
     },
     "metadata": {
      "needs_background": "light"
     },
     "output_type": "display_data"
    }
   ],
   "source": [
    "sns.distplot(train_df['Fare'])"
   ]
  },
  {
   "cell_type": "code",
   "execution_count": 45,
   "id": "0e1bd9c3",
   "metadata": {
    "execution": {
     "iopub.execute_input": "2022-03-23T16:16:38.479813Z",
     "iopub.status.busy": "2022-03-23T16:16:38.471708Z",
     "iopub.status.idle": "2022-03-23T16:16:38.483137Z",
     "shell.execute_reply": "2022-03-23T16:16:38.483653Z",
     "shell.execute_reply.started": "2022-03-23T16:06:47.207707Z"
    },
    "papermill": {
     "duration": 0.118944,
     "end_time": "2022-03-23T16:16:38.483822",
     "exception": false,
     "start_time": "2022-03-23T16:16:38.364878",
     "status": "completed"
    },
    "tags": []
   },
   "outputs": [
    {
     "data": {
      "text/html": [
       "<div>\n",
       "<style scoped>\n",
       "    .dataframe tbody tr th:only-of-type {\n",
       "        vertical-align: middle;\n",
       "    }\n",
       "\n",
       "    .dataframe tbody tr th {\n",
       "        vertical-align: top;\n",
       "    }\n",
       "\n",
       "    .dataframe thead th {\n",
       "        text-align: right;\n",
       "    }\n",
       "</style>\n",
       "<table border=\"1\" class=\"dataframe\">\n",
       "  <thead>\n",
       "    <tr style=\"text-align: right;\">\n",
       "      <th></th>\n",
       "      <th>Age*Class</th>\n",
       "      <th>Age</th>\n",
       "      <th>Pclass</th>\n",
       "    </tr>\n",
       "  </thead>\n",
       "  <tbody>\n",
       "    <tr>\n",
       "      <th>0</th>\n",
       "      <td>3.0</td>\n",
       "      <td>1.0</td>\n",
       "      <td>3</td>\n",
       "    </tr>\n",
       "    <tr>\n",
       "      <th>1</th>\n",
       "      <td>2.0</td>\n",
       "      <td>2.0</td>\n",
       "      <td>1</td>\n",
       "    </tr>\n",
       "    <tr>\n",
       "      <th>2</th>\n",
       "      <td>3.0</td>\n",
       "      <td>1.0</td>\n",
       "      <td>3</td>\n",
       "    </tr>\n",
       "    <tr>\n",
       "      <th>3</th>\n",
       "      <td>2.0</td>\n",
       "      <td>2.0</td>\n",
       "      <td>1</td>\n",
       "    </tr>\n",
       "    <tr>\n",
       "      <th>4</th>\n",
       "      <td>6.0</td>\n",
       "      <td>2.0</td>\n",
       "      <td>3</td>\n",
       "    </tr>\n",
       "    <tr>\n",
       "      <th>5</th>\n",
       "      <td>3.0</td>\n",
       "      <td>1.0</td>\n",
       "      <td>3</td>\n",
       "    </tr>\n",
       "    <tr>\n",
       "      <th>6</th>\n",
       "      <td>3.0</td>\n",
       "      <td>3.0</td>\n",
       "      <td>1</td>\n",
       "    </tr>\n",
       "    <tr>\n",
       "      <th>7</th>\n",
       "      <td>0.0</td>\n",
       "      <td>0.0</td>\n",
       "      <td>3</td>\n",
       "    </tr>\n",
       "    <tr>\n",
       "      <th>8</th>\n",
       "      <td>3.0</td>\n",
       "      <td>1.0</td>\n",
       "      <td>3</td>\n",
       "    </tr>\n",
       "    <tr>\n",
       "      <th>9</th>\n",
       "      <td>0.0</td>\n",
       "      <td>0.0</td>\n",
       "      <td>2</td>\n",
       "    </tr>\n",
       "  </tbody>\n",
       "</table>\n",
       "</div>"
      ],
      "text/plain": [
       "   Age*Class  Age  Pclass\n",
       "0        3.0  1.0       3\n",
       "1        2.0  2.0       1\n",
       "2        3.0  1.0       3\n",
       "3        2.0  2.0       1\n",
       "4        6.0  2.0       3\n",
       "5        3.0  1.0       3\n",
       "6        3.0  3.0       1\n",
       "7        0.0  0.0       3\n",
       "8        3.0  1.0       3\n",
       "9        0.0  0.0       2"
      ]
     },
     "execution_count": 45,
     "metadata": {},
     "output_type": "execute_result"
    }
   ],
   "source": [
    "for dataset in combine:\n",
    "    dataset['Age*Class'] = dataset.Age * dataset.Pclass\n",
    "\n",
    "train_df.loc[:, ['Age*Class', 'Age', 'Pclass']].head(10)"
   ]
  },
  {
   "cell_type": "markdown",
   "id": "0370946c",
   "metadata": {
    "papermill": {
     "duration": 0.098748,
     "end_time": "2022-03-23T16:16:38.681899",
     "exception": false,
     "start_time": "2022-03-23T16:16:38.583151",
     "status": "completed"
    },
    "tags": []
   },
   "source": [
    "# I may convert it to intervals also because a lot of people pay in a range 0 to 150 "
   ]
  },
  {
   "cell_type": "code",
   "execution_count": 46,
   "id": "2e2efadc",
   "metadata": {
    "execution": {
     "iopub.execute_input": "2022-03-23T16:16:38.885833Z",
     "iopub.status.busy": "2022-03-23T16:16:38.884771Z",
     "iopub.status.idle": "2022-03-23T16:16:38.911288Z",
     "shell.execute_reply": "2022-03-23T16:16:38.910730Z",
     "shell.execute_reply.started": "2022-03-23T16:06:47.224160Z"
    },
    "papermill": {
     "duration": 0.130302,
     "end_time": "2022-03-23T16:16:38.911445",
     "exception": false,
     "start_time": "2022-03-23T16:16:38.781143",
     "status": "completed"
    },
    "tags": []
   },
   "outputs": [
    {
     "data": {
      "text/html": [
       "<div>\n",
       "<style scoped>\n",
       "    .dataframe tbody tr th:only-of-type {\n",
       "        vertical-align: middle;\n",
       "    }\n",
       "\n",
       "    .dataframe tbody tr th {\n",
       "        vertical-align: top;\n",
       "    }\n",
       "\n",
       "    .dataframe thead th {\n",
       "        text-align: right;\n",
       "    }\n",
       "</style>\n",
       "<table border=\"1\" class=\"dataframe\">\n",
       "  <thead>\n",
       "    <tr style=\"text-align: right;\">\n",
       "      <th></th>\n",
       "      <th>Survived</th>\n",
       "      <th>Pclass</th>\n",
       "      <th>Name</th>\n",
       "      <th>Sex</th>\n",
       "      <th>Age</th>\n",
       "      <th>Fare</th>\n",
       "      <th>Embarked</th>\n",
       "      <th>Family</th>\n",
       "      <th>Alone</th>\n",
       "      <th>Age*Class</th>\n",
       "    </tr>\n",
       "  </thead>\n",
       "  <tbody>\n",
       "    <tr>\n",
       "      <th>0</th>\n",
       "      <td>0</td>\n",
       "      <td>3</td>\n",
       "      <td>Braund, Mr. Owen Harris</td>\n",
       "      <td>0</td>\n",
       "      <td>1.0</td>\n",
       "      <td>0</td>\n",
       "      <td>S</td>\n",
       "      <td>1</td>\n",
       "      <td>0</td>\n",
       "      <td>3.0</td>\n",
       "    </tr>\n",
       "    <tr>\n",
       "      <th>1</th>\n",
       "      <td>1</td>\n",
       "      <td>1</td>\n",
       "      <td>Cumings, Mrs. John Bradley (Florence Briggs Th...</td>\n",
       "      <td>1</td>\n",
       "      <td>2.0</td>\n",
       "      <td>3</td>\n",
       "      <td>C</td>\n",
       "      <td>1</td>\n",
       "      <td>0</td>\n",
       "      <td>2.0</td>\n",
       "    </tr>\n",
       "    <tr>\n",
       "      <th>2</th>\n",
       "      <td>1</td>\n",
       "      <td>3</td>\n",
       "      <td>Heikkinen, Miss. Laina</td>\n",
       "      <td>1</td>\n",
       "      <td>1.0</td>\n",
       "      <td>1</td>\n",
       "      <td>S</td>\n",
       "      <td>0</td>\n",
       "      <td>1</td>\n",
       "      <td>3.0</td>\n",
       "    </tr>\n",
       "    <tr>\n",
       "      <th>3</th>\n",
       "      <td>1</td>\n",
       "      <td>1</td>\n",
       "      <td>Futrelle, Mrs. Jacques Heath (Lily May Peel)</td>\n",
       "      <td>1</td>\n",
       "      <td>2.0</td>\n",
       "      <td>3</td>\n",
       "      <td>S</td>\n",
       "      <td>1</td>\n",
       "      <td>0</td>\n",
       "      <td>2.0</td>\n",
       "    </tr>\n",
       "    <tr>\n",
       "      <th>4</th>\n",
       "      <td>0</td>\n",
       "      <td>3</td>\n",
       "      <td>Allen, Mr. William Henry</td>\n",
       "      <td>0</td>\n",
       "      <td>2.0</td>\n",
       "      <td>1</td>\n",
       "      <td>S</td>\n",
       "      <td>0</td>\n",
       "      <td>1</td>\n",
       "      <td>6.0</td>\n",
       "    </tr>\n",
       "    <tr>\n",
       "      <th>5</th>\n",
       "      <td>0</td>\n",
       "      <td>3</td>\n",
       "      <td>Moran, Mr. James</td>\n",
       "      <td>0</td>\n",
       "      <td>1.0</td>\n",
       "      <td>1</td>\n",
       "      <td>Q</td>\n",
       "      <td>0</td>\n",
       "      <td>1</td>\n",
       "      <td>3.0</td>\n",
       "    </tr>\n",
       "    <tr>\n",
       "      <th>6</th>\n",
       "      <td>0</td>\n",
       "      <td>1</td>\n",
       "      <td>McCarthy, Mr. Timothy J</td>\n",
       "      <td>0</td>\n",
       "      <td>3.0</td>\n",
       "      <td>3</td>\n",
       "      <td>S</td>\n",
       "      <td>0</td>\n",
       "      <td>1</td>\n",
       "      <td>3.0</td>\n",
       "    </tr>\n",
       "    <tr>\n",
       "      <th>7</th>\n",
       "      <td>0</td>\n",
       "      <td>3</td>\n",
       "      <td>Palsson, Master. Gosta Leonard</td>\n",
       "      <td>0</td>\n",
       "      <td>0.0</td>\n",
       "      <td>2</td>\n",
       "      <td>S</td>\n",
       "      <td>4</td>\n",
       "      <td>0</td>\n",
       "      <td>0.0</td>\n",
       "    </tr>\n",
       "    <tr>\n",
       "      <th>8</th>\n",
       "      <td>1</td>\n",
       "      <td>3</td>\n",
       "      <td>Johnson, Mrs. Oscar W (Elisabeth Vilhelmina Berg)</td>\n",
       "      <td>1</td>\n",
       "      <td>1.0</td>\n",
       "      <td>1</td>\n",
       "      <td>S</td>\n",
       "      <td>2</td>\n",
       "      <td>0</td>\n",
       "      <td>3.0</td>\n",
       "    </tr>\n",
       "    <tr>\n",
       "      <th>9</th>\n",
       "      <td>1</td>\n",
       "      <td>2</td>\n",
       "      <td>Nasser, Mrs. Nicholas (Adele Achem)</td>\n",
       "      <td>1</td>\n",
       "      <td>0.0</td>\n",
       "      <td>2</td>\n",
       "      <td>C</td>\n",
       "      <td>1</td>\n",
       "      <td>0</td>\n",
       "      <td>0.0</td>\n",
       "    </tr>\n",
       "  </tbody>\n",
       "</table>\n",
       "</div>"
      ],
      "text/plain": [
       "   Survived  Pclass                                               Name  Sex  \\\n",
       "0         0       3                            Braund, Mr. Owen Harris    0   \n",
       "1         1       1  Cumings, Mrs. John Bradley (Florence Briggs Th...    1   \n",
       "2         1       3                             Heikkinen, Miss. Laina    1   \n",
       "3         1       1       Futrelle, Mrs. Jacques Heath (Lily May Peel)    1   \n",
       "4         0       3                           Allen, Mr. William Henry    0   \n",
       "5         0       3                                   Moran, Mr. James    0   \n",
       "6         0       1                            McCarthy, Mr. Timothy J    0   \n",
       "7         0       3                     Palsson, Master. Gosta Leonard    0   \n",
       "8         1       3  Johnson, Mrs. Oscar W (Elisabeth Vilhelmina Berg)    1   \n",
       "9         1       2                Nasser, Mrs. Nicholas (Adele Achem)    1   \n",
       "\n",
       "   Age  Fare Embarked  Family  Alone  Age*Class  \n",
       "0  1.0     0        S       1      0        3.0  \n",
       "1  2.0     3        C       1      0        2.0  \n",
       "2  1.0     1        S       0      1        3.0  \n",
       "3  2.0     3        S       1      0        2.0  \n",
       "4  2.0     1        S       0      1        6.0  \n",
       "5  1.0     1        Q       0      1        3.0  \n",
       "6  3.0     3        S       0      1        3.0  \n",
       "7  0.0     2        S       4      0        0.0  \n",
       "8  1.0     1        S       2      0        3.0  \n",
       "9  0.0     2        C       1      0        0.0  "
      ]
     },
     "execution_count": 46,
     "metadata": {},
     "output_type": "execute_result"
    }
   ],
   "source": [
    "for dataset in combine:\n",
    "    dataset.loc[ dataset['Fare'] <= 7.91, 'Fare'] = 0\n",
    "    dataset.loc[(dataset['Fare'] > 7.91) & (dataset['Fare'] <= 14.454), 'Fare'] = 1\n",
    "    dataset.loc[(dataset['Fare'] > 14.454) & (dataset['Fare'] <= 31), 'Fare']   = 2\n",
    "    dataset.loc[ dataset['Fare'] > 31, 'Fare'] = 3\n",
    "    dataset['Fare'] = dataset['Fare'].astype(int)\n",
    "\n",
    "combine = [train_df, test_df]\n",
    "    \n",
    "train_df.head(10)"
   ]
  },
  {
   "cell_type": "code",
   "execution_count": 47,
   "id": "22d1c60a",
   "metadata": {
    "execution": {
     "iopub.execute_input": "2022-03-23T16:16:39.115648Z",
     "iopub.status.busy": "2022-03-23T16:16:39.114608Z",
     "iopub.status.idle": "2022-03-23T16:16:39.121857Z",
     "shell.execute_reply": "2022-03-23T16:16:39.122450Z",
     "shell.execute_reply.started": "2022-03-23T16:06:47.250231Z"
    },
    "papermill": {
     "duration": 0.110806,
     "end_time": "2022-03-23T16:16:39.122615",
     "exception": false,
     "start_time": "2022-03-23T16:16:39.011809",
     "status": "completed"
    },
    "tags": []
   },
   "outputs": [],
   "source": [
    "for dataset in combine:\n",
    "    dataset['Embarked'] = dataset['Embarked'].map( {'S': 0, 'C': 1, 'Q': 2} ).astype(int)"
   ]
  },
  {
   "cell_type": "code",
   "execution_count": 48,
   "id": "06121157",
   "metadata": {
    "execution": {
     "iopub.execute_input": "2022-03-23T16:16:39.333732Z",
     "iopub.status.busy": "2022-03-23T16:16:39.332994Z",
     "iopub.status.idle": "2022-03-23T16:16:39.337670Z",
     "shell.execute_reply": "2022-03-23T16:16:39.338204Z",
     "shell.execute_reply.started": "2022-03-23T16:06:47.260221Z"
    },
    "papermill": {
     "duration": 0.110339,
     "end_time": "2022-03-23T16:16:39.338382",
     "exception": false,
     "start_time": "2022-03-23T16:16:39.228043",
     "status": "completed"
    },
    "tags": []
   },
   "outputs": [],
   "source": [
    "train_df = train_df.drop('Name', axis = 1)\n",
    "test_df = test_df.drop('Name', axis = 1)"
   ]
  },
  {
   "cell_type": "code",
   "execution_count": 49,
   "id": "c9e1ea32",
   "metadata": {
    "execution": {
     "iopub.execute_input": "2022-03-23T16:16:39.546568Z",
     "iopub.status.busy": "2022-03-23T16:16:39.545833Z",
     "iopub.status.idle": "2022-03-23T16:16:39.960362Z",
     "shell.execute_reply": "2022-03-23T16:16:39.959775Z",
     "shell.execute_reply.started": "2022-03-23T16:06:47.275945Z"
    },
    "papermill": {
     "duration": 0.51981,
     "end_time": "2022-03-23T16:16:39.960519",
     "exception": false,
     "start_time": "2022-03-23T16:16:39.440709",
     "status": "completed"
    },
    "tags": []
   },
   "outputs": [],
   "source": [
    "from sklearn.linear_model import LogisticRegression\n",
    "from sklearn.svm import SVC, LinearSVC\n",
    "from sklearn.ensemble import RandomForestClassifier\n",
    "from sklearn.neighbors import KNeighborsClassifier\n",
    "from sklearn.naive_bayes import GaussianNB\n",
    "from sklearn.linear_model import Perceptron\n",
    "from sklearn.linear_model import SGDClassifier\n",
    "from sklearn.tree import DecisionTreeClassifier\n",
    "from sklearn.compose import ColumnTransformer\n",
    "from sklearn.pipeline import Pipeline\n",
    "from sklearn.preprocessing import OneHotEncoder, FunctionTransformer, LabelEncoder\n",
    "from sklearn.model_selection import GridSearchCV"
   ]
  },
  {
   "cell_type": "code",
   "execution_count": 50,
   "id": "c2c36a12",
   "metadata": {
    "execution": {
     "iopub.execute_input": "2022-03-23T16:16:40.169230Z",
     "iopub.status.busy": "2022-03-23T16:16:40.168539Z",
     "iopub.status.idle": "2022-03-23T16:16:40.172544Z",
     "shell.execute_reply": "2022-03-23T16:16:40.173069Z",
     "shell.execute_reply.started": "2022-03-23T16:06:47.287591Z"
    },
    "papermill": {
     "duration": 0.111439,
     "end_time": "2022-03-23T16:16:40.173255",
     "exception": false,
     "start_time": "2022-03-23T16:16:40.061816",
     "status": "completed"
    },
    "tags": []
   },
   "outputs": [
    {
     "name": "stdout",
     "output_type": "stream",
     "text": [
      "(891, 8) (418, 8)\n"
     ]
    }
   ],
   "source": [
    "X = train_df.drop('Survived', axis =1)\n",
    "y = train_df['Survived']\n",
    "print(X.shape, test_df.shape)"
   ]
  },
  {
   "cell_type": "code",
   "execution_count": 51,
   "id": "30d90ad4",
   "metadata": {
    "execution": {
     "iopub.execute_input": "2022-03-23T16:16:40.392402Z",
     "iopub.status.busy": "2022-03-23T16:16:40.391270Z",
     "iopub.status.idle": "2022-03-23T16:16:40.398191Z",
     "shell.execute_reply": "2022-03-23T16:16:40.398704Z",
     "shell.execute_reply.started": "2022-03-23T16:06:47.303630Z"
    },
    "papermill": {
     "duration": 0.119507,
     "end_time": "2022-03-23T16:16:40.398876",
     "exception": false,
     "start_time": "2022-03-23T16:16:40.279369",
     "status": "completed"
    },
    "tags": []
   },
   "outputs": [
    {
     "data": {
      "text/html": [
       "<div>\n",
       "<style scoped>\n",
       "    .dataframe tbody tr th:only-of-type {\n",
       "        vertical-align: middle;\n",
       "    }\n",
       "\n",
       "    .dataframe tbody tr th {\n",
       "        vertical-align: top;\n",
       "    }\n",
       "\n",
       "    .dataframe thead th {\n",
       "        text-align: right;\n",
       "    }\n",
       "</style>\n",
       "<table border=\"1\" class=\"dataframe\">\n",
       "  <thead>\n",
       "    <tr style=\"text-align: right;\">\n",
       "      <th></th>\n",
       "      <th>Pclass</th>\n",
       "      <th>Sex</th>\n",
       "      <th>Age</th>\n",
       "      <th>Fare</th>\n",
       "      <th>Embarked</th>\n",
       "      <th>Family</th>\n",
       "      <th>Alone</th>\n",
       "      <th>Age*Class</th>\n",
       "    </tr>\n",
       "  </thead>\n",
       "  <tbody>\n",
       "    <tr>\n",
       "      <th>0</th>\n",
       "      <td>3</td>\n",
       "      <td>0</td>\n",
       "      <td>1.0</td>\n",
       "      <td>0</td>\n",
       "      <td>0</td>\n",
       "      <td>1</td>\n",
       "      <td>0</td>\n",
       "      <td>3.0</td>\n",
       "    </tr>\n",
       "    <tr>\n",
       "      <th>1</th>\n",
       "      <td>1</td>\n",
       "      <td>1</td>\n",
       "      <td>2.0</td>\n",
       "      <td>3</td>\n",
       "      <td>1</td>\n",
       "      <td>1</td>\n",
       "      <td>0</td>\n",
       "      <td>2.0</td>\n",
       "    </tr>\n",
       "    <tr>\n",
       "      <th>2</th>\n",
       "      <td>3</td>\n",
       "      <td>1</td>\n",
       "      <td>1.0</td>\n",
       "      <td>1</td>\n",
       "      <td>0</td>\n",
       "      <td>0</td>\n",
       "      <td>1</td>\n",
       "      <td>3.0</td>\n",
       "    </tr>\n",
       "    <tr>\n",
       "      <th>3</th>\n",
       "      <td>1</td>\n",
       "      <td>1</td>\n",
       "      <td>2.0</td>\n",
       "      <td>3</td>\n",
       "      <td>0</td>\n",
       "      <td>1</td>\n",
       "      <td>0</td>\n",
       "      <td>2.0</td>\n",
       "    </tr>\n",
       "    <tr>\n",
       "      <th>4</th>\n",
       "      <td>3</td>\n",
       "      <td>0</td>\n",
       "      <td>2.0</td>\n",
       "      <td>1</td>\n",
       "      <td>0</td>\n",
       "      <td>0</td>\n",
       "      <td>1</td>\n",
       "      <td>6.0</td>\n",
       "    </tr>\n",
       "  </tbody>\n",
       "</table>\n",
       "</div>"
      ],
      "text/plain": [
       "   Pclass  Sex  Age  Fare  Embarked  Family  Alone  Age*Class\n",
       "0       3    0  1.0     0         0       1      0        3.0\n",
       "1       1    1  2.0     3         1       1      0        2.0\n",
       "2       3    1  1.0     1         0       0      1        3.0\n",
       "3       1    1  2.0     3         0       1      0        2.0\n",
       "4       3    0  2.0     1         0       0      1        6.0"
      ]
     },
     "execution_count": 51,
     "metadata": {},
     "output_type": "execute_result"
    }
   ],
   "source": [
    "X.head()"
   ]
  },
  {
   "cell_type": "code",
   "execution_count": 52,
   "id": "12a48cbe",
   "metadata": {
    "execution": {
     "iopub.execute_input": "2022-03-23T16:16:40.609128Z",
     "iopub.status.busy": "2022-03-23T16:16:40.608462Z",
     "iopub.status.idle": "2022-03-23T16:16:40.613275Z",
     "shell.execute_reply": "2022-03-23T16:16:40.613812Z",
     "shell.execute_reply.started": "2022-03-23T16:06:47.324281Z"
    },
    "papermill": {
     "duration": 0.110414,
     "end_time": "2022-03-23T16:16:40.613984",
     "exception": false,
     "start_time": "2022-03-23T16:16:40.503570",
     "status": "completed"
    },
    "tags": []
   },
   "outputs": [
    {
     "data": {
      "text/plain": [
       "\"X['Fare'] = np.log(X['Fare'])\\ntest_df['Fare'] = np.log(test_df['Fare'])\""
      ]
     },
     "execution_count": 52,
     "metadata": {},
     "output_type": "execute_result"
    }
   ],
   "source": [
    "'''X['Fare'] = np.log(X['Fare'])\n",
    "test_df['Fare'] = np.log(test_df['Fare'])'''"
   ]
  },
  {
   "cell_type": "code",
   "execution_count": 53,
   "id": "28f427c3",
   "metadata": {
    "execution": {
     "iopub.execute_input": "2022-03-23T16:16:40.822498Z",
     "iopub.status.busy": "2022-03-23T16:16:40.821819Z",
     "iopub.status.idle": "2022-03-23T16:16:40.835024Z",
     "shell.execute_reply": "2022-03-23T16:16:40.834326Z",
     "shell.execute_reply.started": "2022-03-23T16:06:47.337894Z"
    },
    "papermill": {
     "duration": 0.117819,
     "end_time": "2022-03-23T16:16:40.835231",
     "exception": false,
     "start_time": "2022-03-23T16:16:40.717412",
     "status": "completed"
    },
    "tags": []
   },
   "outputs": [
    {
     "data": {
      "text/html": [
       "<div>\n",
       "<style scoped>\n",
       "    .dataframe tbody tr th:only-of-type {\n",
       "        vertical-align: middle;\n",
       "    }\n",
       "\n",
       "    .dataframe tbody tr th {\n",
       "        vertical-align: top;\n",
       "    }\n",
       "\n",
       "    .dataframe thead th {\n",
       "        text-align: right;\n",
       "    }\n",
       "</style>\n",
       "<table border=\"1\" class=\"dataframe\">\n",
       "  <thead>\n",
       "    <tr style=\"text-align: right;\">\n",
       "      <th></th>\n",
       "      <th>Pclass</th>\n",
       "      <th>Sex</th>\n",
       "      <th>Age</th>\n",
       "      <th>Fare</th>\n",
       "      <th>Embarked</th>\n",
       "      <th>Family</th>\n",
       "      <th>Alone</th>\n",
       "      <th>Age*Class</th>\n",
       "    </tr>\n",
       "  </thead>\n",
       "  <tbody>\n",
       "    <tr>\n",
       "      <th>0</th>\n",
       "      <td>3</td>\n",
       "      <td>0</td>\n",
       "      <td>1.0</td>\n",
       "      <td>0</td>\n",
       "      <td>0</td>\n",
       "      <td>1</td>\n",
       "      <td>0</td>\n",
       "      <td>3.0</td>\n",
       "    </tr>\n",
       "    <tr>\n",
       "      <th>1</th>\n",
       "      <td>1</td>\n",
       "      <td>1</td>\n",
       "      <td>2.0</td>\n",
       "      <td>3</td>\n",
       "      <td>1</td>\n",
       "      <td>1</td>\n",
       "      <td>0</td>\n",
       "      <td>2.0</td>\n",
       "    </tr>\n",
       "    <tr>\n",
       "      <th>2</th>\n",
       "      <td>3</td>\n",
       "      <td>1</td>\n",
       "      <td>1.0</td>\n",
       "      <td>1</td>\n",
       "      <td>0</td>\n",
       "      <td>0</td>\n",
       "      <td>1</td>\n",
       "      <td>3.0</td>\n",
       "    </tr>\n",
       "    <tr>\n",
       "      <th>3</th>\n",
       "      <td>1</td>\n",
       "      <td>1</td>\n",
       "      <td>2.0</td>\n",
       "      <td>3</td>\n",
       "      <td>0</td>\n",
       "      <td>1</td>\n",
       "      <td>0</td>\n",
       "      <td>2.0</td>\n",
       "    </tr>\n",
       "    <tr>\n",
       "      <th>4</th>\n",
       "      <td>3</td>\n",
       "      <td>0</td>\n",
       "      <td>2.0</td>\n",
       "      <td>1</td>\n",
       "      <td>0</td>\n",
       "      <td>0</td>\n",
       "      <td>1</td>\n",
       "      <td>6.0</td>\n",
       "    </tr>\n",
       "  </tbody>\n",
       "</table>\n",
       "</div>"
      ],
      "text/plain": [
       "   Pclass  Sex  Age  Fare  Embarked  Family  Alone  Age*Class\n",
       "0       3    0  1.0     0         0       1      0        3.0\n",
       "1       1    1  2.0     3         1       1      0        2.0\n",
       "2       3    1  1.0     1         0       0      1        3.0\n",
       "3       1    1  2.0     3         0       1      0        2.0\n",
       "4       3    0  2.0     1         0       0      1        6.0"
      ]
     },
     "execution_count": 53,
     "metadata": {},
     "output_type": "execute_result"
    }
   ],
   "source": [
    "X.head()"
   ]
  },
  {
   "cell_type": "code",
   "execution_count": 54,
   "id": "01269223",
   "metadata": {
    "execution": {
     "iopub.execute_input": "2022-03-23T16:16:41.047870Z",
     "iopub.status.busy": "2022-03-23T16:16:41.047119Z",
     "iopub.status.idle": "2022-03-23T16:16:41.053319Z",
     "shell.execute_reply": "2022-03-23T16:16:41.052755Z",
     "shell.execute_reply.started": "2022-03-23T16:06:47.358224Z"
    },
    "papermill": {
     "duration": 0.113855,
     "end_time": "2022-03-23T16:16:41.053463",
     "exception": false,
     "start_time": "2022-03-23T16:16:40.939608",
     "status": "completed"
    },
    "tags": []
   },
   "outputs": [
    {
     "data": {
      "text/plain": [
       "\"OH_encoder = OneHotEncoder(handle_unknown='ignore', sparse=False)\\nOH_cols_train = pd.DataFrame(OH_encoder.fit_transform(X[['Embarked']]))\\n\\nOH_cols_test = pd.DataFrame(OH_encoder.transform(test_df[['Embarked']]))\\n\\n# One-hot encoding removed index; put it back\\nOH_cols_train.index = X.index\\nOH_cols_test.index = test_df.index\\n\\n# Remove categorical columns (will replace with one-hot encoding)\\nnum_X_train = X.drop('Embarked', axis=1)\\nnum_X_test = test_df.drop('Embarked', axis=1)\\n\\n# Add one-hot encoded columns to numerical features\\nOH_X_train = pd.concat([num_X_train, OH_cols_train], axis=1)\\nOH_X_test = pd.concat([num_X_test, OH_cols_test], axis=1)\""
      ]
     },
     "execution_count": 54,
     "metadata": {},
     "output_type": "execute_result"
    }
   ],
   "source": [
    "'''OH_encoder = OneHotEncoder(handle_unknown='ignore', sparse=False)\n",
    "OH_cols_train = pd.DataFrame(OH_encoder.fit_transform(X[['Embarked']]))\n",
    "\n",
    "OH_cols_test = pd.DataFrame(OH_encoder.transform(test_df[['Embarked']]))\n",
    "\n",
    "# One-hot encoding removed index; put it back\n",
    "OH_cols_train.index = X.index\n",
    "OH_cols_test.index = test_df.index\n",
    "\n",
    "# Remove categorical columns (will replace with one-hot encoding)\n",
    "num_X_train = X.drop('Embarked', axis=1)\n",
    "num_X_test = test_df.drop('Embarked', axis=1)\n",
    "\n",
    "# Add one-hot encoded columns to numerical features\n",
    "OH_X_train = pd.concat([num_X_train, OH_cols_train], axis=1)\n",
    "OH_X_test = pd.concat([num_X_test, OH_cols_test], axis=1)'''"
   ]
  },
  {
   "cell_type": "code",
   "execution_count": 55,
   "id": "2c5885af",
   "metadata": {
    "execution": {
     "iopub.execute_input": "2022-03-23T16:16:41.271090Z",
     "iopub.status.busy": "2022-03-23T16:16:41.269494Z",
     "iopub.status.idle": "2022-03-23T16:16:41.272666Z",
     "shell.execute_reply": "2022-03-23T16:16:41.273232Z",
     "shell.execute_reply.started": "2022-03-23T16:06:47.367719Z"
    },
    "papermill": {
     "duration": 0.112406,
     "end_time": "2022-03-23T16:16:41.273408",
     "exception": false,
     "start_time": "2022-03-23T16:16:41.161002",
     "status": "completed"
    },
    "tags": []
   },
   "outputs": [],
   "source": [
    "Skwed_features = ['Fare'] # need log\n",
    "##cat_features = ['Embarked'] # need encoding"
   ]
  },
  {
   "cell_type": "code",
   "execution_count": 56,
   "id": "1dc4edfb",
   "metadata": {
    "execution": {
     "iopub.execute_input": "2022-03-23T16:16:41.484300Z",
     "iopub.status.busy": "2022-03-23T16:16:41.483576Z",
     "iopub.status.idle": "2022-03-23T16:16:41.487986Z",
     "shell.execute_reply": "2022-03-23T16:16:41.487485Z",
     "shell.execute_reply.started": "2022-03-23T16:06:47.382045Z"
    },
    "papermill": {
     "duration": 0.110375,
     "end_time": "2022-03-23T16:16:41.488182",
     "exception": false,
     "start_time": "2022-03-23T16:16:41.377807",
     "status": "completed"
    },
    "tags": []
   },
   "outputs": [],
   "source": [
    "preprocessor = ColumnTransformer([\n",
    "    ('log_trans', FunctionTransformer(func = np.log1p, validate = False), Skwed_features)#,\n",
    "    ##('label',OneHotEncoder(), cat_features)\n",
    "])"
   ]
  },
  {
   "cell_type": "code",
   "execution_count": 57,
   "id": "510a2a8f",
   "metadata": {
    "execution": {
     "iopub.execute_input": "2022-03-23T16:16:41.699741Z",
     "iopub.status.busy": "2022-03-23T16:16:41.699093Z",
     "iopub.status.idle": "2022-03-23T16:16:41.703510Z",
     "shell.execute_reply": "2022-03-23T16:16:41.703990Z",
     "shell.execute_reply.started": "2022-03-23T16:06:55.687324Z"
    },
    "papermill": {
     "duration": 0.113084,
     "end_time": "2022-03-23T16:16:41.704186",
     "exception": false,
     "start_time": "2022-03-23T16:16:41.591102",
     "status": "completed"
    },
    "tags": []
   },
   "outputs": [
    {
     "data": {
      "text/plain": [
       "'X = preprocessor.fit_transform(X)\\ntest_df = preprocessor.transform(test_df)'"
      ]
     },
     "execution_count": 57,
     "metadata": {},
     "output_type": "execute_result"
    }
   ],
   "source": [
    "'''X = preprocessor.fit_transform(X)\n",
    "test_df = preprocessor.transform(test_df)'''"
   ]
  },
  {
   "cell_type": "code",
   "execution_count": 58,
   "id": "7ab3342f",
   "metadata": {
    "execution": {
     "iopub.execute_input": "2022-03-23T16:16:41.914444Z",
     "iopub.status.busy": "2022-03-23T16:16:41.913706Z",
     "iopub.status.idle": "2022-03-23T16:16:42.241048Z",
     "shell.execute_reply": "2022-03-23T16:16:42.241684Z",
     "shell.execute_reply.started": "2022-03-23T16:06:56.114589Z"
    },
    "papermill": {
     "duration": 0.434312,
     "end_time": "2022-03-23T16:16:42.241865",
     "exception": false,
     "start_time": "2022-03-23T16:16:41.807553",
     "status": "completed"
    },
    "tags": []
   },
   "outputs": [
    {
     "name": "stderr",
     "output_type": "stream",
     "text": [
      "/opt/conda/lib/python3.7/site-packages/sklearn/model_selection/_validation.py:372: FitFailedWarning: \n",
      "20 fits failed out of a total of 40.\n",
      "The score on these train-test partitions for these parameters will be set to nan.\n",
      "If these failures are not expected, you can try to debug them by setting error_score='raise'.\n",
      "\n",
      "Below are more details about the failures:\n",
      "--------------------------------------------------------------------------------\n",
      "20 fits failed with the following error:\n",
      "Traceback (most recent call last):\n",
      "  File \"/opt/conda/lib/python3.7/site-packages/sklearn/model_selection/_validation.py\", line 681, in _fit_and_score\n",
      "    estimator.fit(X_train, y_train, **fit_params)\n",
      "  File \"/opt/conda/lib/python3.7/site-packages/sklearn/linear_model/_logistic.py\", line 1461, in fit\n",
      "    solver = _check_solver(self.solver, self.penalty, self.dual)\n",
      "  File \"/opt/conda/lib/python3.7/site-packages/sklearn/linear_model/_logistic.py\", line 449, in _check_solver\n",
      "    % (solver, penalty)\n",
      "ValueError: Solver lbfgs supports only 'l2' or 'none' penalties, got elasticnet penalty.\n",
      "\n",
      "  warnings.warn(some_fits_failed_message, FitFailedWarning)\n",
      "/opt/conda/lib/python3.7/site-packages/sklearn/model_selection/_search.py:972: UserWarning: One or more of the test scores are non-finite: [0.77787333        nan 0.7868056         nan 0.61616345        nan\n",
      " 0.70154416        nan]\n",
      "  category=UserWarning,\n"
     ]
    }
   ],
   "source": [
    "model = LogisticRegression()\n",
    "param_grid = {'penalty' : ['l2', 'elasticnet'],\n",
    "             'C':[0.1,0.5,0.001,0.005]}\n",
    "grid_cv = GridSearchCV(model, param_grid, cv=5, scoring = 'accuracy')\n",
    "grid_cv.fit(X,y)\n",
    "grid_cv.score(X,y)\n",
    "Y_pred = grid_cv.predict(test_df)"
   ]
  },
  {
   "cell_type": "code",
   "execution_count": 59,
   "id": "2e8608e7",
   "metadata": {
    "execution": {
     "iopub.execute_input": "2022-03-23T16:16:42.455217Z",
     "iopub.status.busy": "2022-03-23T16:16:42.454161Z",
     "iopub.status.idle": "2022-03-23T16:16:42.705531Z",
     "shell.execute_reply": "2022-03-23T16:16:42.705992Z",
     "shell.execute_reply.started": "2022-03-23T16:06:56.456413Z"
    },
    "papermill": {
     "duration": 0.360437,
     "end_time": "2022-03-23T16:16:42.706195",
     "exception": false,
     "start_time": "2022-03-23T16:16:42.345758",
     "status": "completed"
    },
    "tags": []
   },
   "outputs": [
    {
     "data": {
      "text/plain": [
       "0.8496071829405163"
      ]
     },
     "execution_count": 59,
     "metadata": {},
     "output_type": "execute_result"
    }
   ],
   "source": [
    "model = KNeighborsClassifier(n_neighbors=5)\n",
    "param_grid = {'n_neighbors':[3, 4, 5]}\n",
    "grid_cv = GridSearchCV(model, param_grid, cv=5,  scoring = 'accuracy')\n",
    "grid_cv.fit(X,y)\n",
    "grid_cv.score(X,y)"
   ]
  },
  {
   "cell_type": "code",
   "execution_count": 60,
   "id": "7cccfb82",
   "metadata": {
    "execution": {
     "iopub.execute_input": "2022-03-23T16:16:42.919880Z",
     "iopub.status.busy": "2022-03-23T16:16:42.918759Z",
     "iopub.status.idle": "2022-03-23T16:16:44.668362Z",
     "shell.execute_reply": "2022-03-23T16:16:44.667691Z",
     "shell.execute_reply.started": "2022-03-23T16:06:56.718017Z"
    },
    "papermill": {
     "duration": 1.857236,
     "end_time": "2022-03-23T16:16:44.668537",
     "exception": false,
     "start_time": "2022-03-23T16:16:42.811301",
     "status": "completed"
    },
    "tags": []
   },
   "outputs": [
    {
     "data": {
      "text/plain": [
       "0.8810325476992144"
      ]
     },
     "execution_count": 60,
     "metadata": {},
     "output_type": "execute_result"
    }
   ],
   "source": [
    "model = RandomForestClassifier()\n",
    "param_grid = {'n_estimators': [50, 100]}\n",
    "grid_cv = GridSearchCV(model, param_grid, cv=5,  scoring = 'accuracy')\n",
    "grid_cv.fit(X,y)\n",
    "Y_pred2 = grid_cv.predict(test_df)\n",
    "grid_cv.score(X,y)"
   ]
  },
  {
   "cell_type": "code",
   "execution_count": null,
   "id": "114c2a49",
   "metadata": {
    "papermill": {
     "duration": 0.103945,
     "end_time": "2022-03-23T16:16:44.876946",
     "exception": false,
     "start_time": "2022-03-23T16:16:44.773001",
     "status": "completed"
    },
    "tags": []
   },
   "outputs": [],
   "source": []
  },
  {
   "cell_type": "code",
   "execution_count": 61,
   "id": "ff38d1bd",
   "metadata": {
    "execution": {
     "iopub.execute_input": "2022-03-23T16:16:45.095138Z",
     "iopub.status.busy": "2022-03-23T16:16:45.094049Z",
     "iopub.status.idle": "2022-03-23T16:16:45.101437Z",
     "shell.execute_reply": "2022-03-23T16:16:45.100844Z",
     "shell.execute_reply.started": "2022-03-23T16:06:58.128725Z"
    },
    "papermill": {
     "duration": 0.115415,
     "end_time": "2022-03-23T16:16:45.101584",
     "exception": false,
     "start_time": "2022-03-23T16:16:44.986169",
     "status": "completed"
    },
    "tags": []
   },
   "outputs": [
    {
     "data": {
      "text/plain": [
       "\"from tensorflow import keras\\nfrom tensorflow.keras import layers\\n\\n# YOUR CODE HERE: define the model given in the diagram\\nmodel = keras.Sequential([\\n    layers.BatchNormalization(input_shape=[X.shape[1]]),\\n    layers.Dense(units = 256),\\n    layers.BatchNormalization(),\\n    layers.Dropout(rate=0.3),\\n    layers.Dense(units = 256),\\n    layers.BatchNormalization(),\\n    layers.Dropout(rate=0.3),\\n    layers.Dense(1,activation='sigmoid')\\n])\\n\\nmodel.compile(optimizer = 'adam',\\n              loss ='binary_crossentropy',\\n             metrics = ['binary_accuracy'])\\n\\nearly_stopping = keras.callbacks.EarlyStopping(\\n    patience=5,\\n    min_delta=0.001,\\n    restore_best_weights=True,\\n)\\n\\nmodel.fit(\\n    X, y,\\n    batch_size=512,\\n    epochs=200,\\n    callbacks=[early_stopping],\\n)\""
      ]
     },
     "execution_count": 61,
     "metadata": {},
     "output_type": "execute_result"
    }
   ],
   "source": [
    "'''from tensorflow import keras\n",
    "from tensorflow.keras import layers\n",
    "\n",
    "# YOUR CODE HERE: define the model given in the diagram\n",
    "model = keras.Sequential([\n",
    "    layers.BatchNormalization(input_shape=[X.shape[1]]),\n",
    "    layers.Dense(units = 256),\n",
    "    layers.BatchNormalization(),\n",
    "    layers.Dropout(rate=0.3),\n",
    "    layers.Dense(units = 256),\n",
    "    layers.BatchNormalization(),\n",
    "    layers.Dropout(rate=0.3),\n",
    "    layers.Dense(1,activation='sigmoid')\n",
    "])\n",
    "\n",
    "model.compile(optimizer = 'adam',\n",
    "              loss ='binary_crossentropy',\n",
    "             metrics = ['binary_accuracy'])\n",
    "\n",
    "early_stopping = keras.callbacks.EarlyStopping(\n",
    "    patience=5,\n",
    "    min_delta=0.001,\n",
    "    restore_best_weights=True,\n",
    ")\n",
    "\n",
    "model.fit(\n",
    "    X, y,\n",
    "    batch_size=512,\n",
    "    epochs=200,\n",
    "    callbacks=[early_stopping],\n",
    ")'''"
   ]
  },
  {
   "cell_type": "code",
   "execution_count": 62,
   "id": "3329c841",
   "metadata": {
    "execution": {
     "iopub.execute_input": "2022-03-23T16:16:45.314184Z",
     "iopub.status.busy": "2022-03-23T16:16:45.313223Z",
     "iopub.status.idle": "2022-03-23T16:16:45.316319Z",
     "shell.execute_reply": "2022-03-23T16:16:45.316771Z",
     "shell.execute_reply.started": "2022-03-23T16:07:07.616567Z"
    },
    "papermill": {
     "duration": 0.110813,
     "end_time": "2022-03-23T16:16:45.316948",
     "exception": false,
     "start_time": "2022-03-23T16:16:45.206135",
     "status": "completed"
    },
    "tags": []
   },
   "outputs": [],
   "source": [
    "#Y_pred = model.predict(test_df)\n",
    "#Y_pred = np.round(Y_pred.reshape(418,))"
   ]
  },
  {
   "cell_type": "code",
   "execution_count": 63,
   "id": "a1427a6c",
   "metadata": {
    "execution": {
     "iopub.execute_input": "2022-03-23T16:16:45.533507Z",
     "iopub.status.busy": "2022-03-23T16:16:45.532585Z",
     "iopub.status.idle": "2022-03-23T16:16:45.535513Z",
     "shell.execute_reply": "2022-03-23T16:16:45.534935Z",
     "shell.execute_reply.started": "2022-03-23T16:07:08.026830Z"
    },
    "papermill": {
     "duration": 0.112467,
     "end_time": "2022-03-23T16:16:45.535667",
     "exception": false,
     "start_time": "2022-03-23T16:16:45.423200",
     "status": "completed"
    },
    "tags": []
   },
   "outputs": [],
   "source": [
    "Y_pred = Y_pred.astype(int) "
   ]
  },
  {
   "cell_type": "code",
   "execution_count": 64,
   "id": "1e68219e",
   "metadata": {
    "execution": {
     "iopub.execute_input": "2022-03-23T16:16:45.752301Z",
     "iopub.status.busy": "2022-03-23T16:16:45.751216Z",
     "iopub.status.idle": "2022-03-23T16:16:45.814549Z",
     "shell.execute_reply": "2022-03-23T16:16:45.815028Z",
     "shell.execute_reply.started": "2022-03-23T16:07:08.372245Z"
    },
    "papermill": {
     "duration": 0.175091,
     "end_time": "2022-03-23T16:16:45.815241",
     "exception": false,
     "start_time": "2022-03-23T16:16:45.640150",
     "status": "completed"
    },
    "tags": []
   },
   "outputs": [],
   "source": [
    "svc = SVC(kernel='rbf')\n",
    "svc.fit(X, y)\n",
    "svc.score(X, y)\n",
    "Y_pred = svc.predict(test_df)"
   ]
  },
  {
   "cell_type": "code",
   "execution_count": 65,
   "id": "fc7ef17e",
   "metadata": {
    "execution": {
     "iopub.execute_input": "2022-03-23T16:16:46.029155Z",
     "iopub.status.busy": "2022-03-23T16:16:46.028135Z",
     "iopub.status.idle": "2022-03-23T16:16:46.036997Z",
     "shell.execute_reply": "2022-03-23T16:16:46.037555Z",
     "shell.execute_reply.started": "2022-03-23T16:07:08.603444Z"
    },
    "papermill": {
     "duration": 0.117934,
     "end_time": "2022-03-23T16:16:46.037763",
     "exception": false,
     "start_time": "2022-03-23T16:16:45.919829",
     "status": "completed"
    },
    "tags": []
   },
   "outputs": [],
   "source": [
    "submission = pd.DataFrame({\n",
    "        \"PassengerId\": pass_id,\n",
    "        \"Survived\": Y_pred\n",
    "    })\n",
    "submission.to_csv('submission.csv', index = False)"
   ]
  },
  {
   "cell_type": "code",
   "execution_count": null,
   "id": "6d56c93c",
   "metadata": {
    "papermill": {
     "duration": 0.103568,
     "end_time": "2022-03-23T16:16:46.246341",
     "exception": false,
     "start_time": "2022-03-23T16:16:46.142773",
     "status": "completed"
    },
    "tags": []
   },
   "outputs": [],
   "source": []
  },
  {
   "cell_type": "code",
   "execution_count": null,
   "id": "67c1a5d5",
   "metadata": {
    "papermill": {
     "duration": 0.104647,
     "end_time": "2022-03-23T16:16:46.455949",
     "exception": false,
     "start_time": "2022-03-23T16:16:46.351302",
     "status": "completed"
    },
    "tags": []
   },
   "outputs": [],
   "source": []
  }
 ],
 "metadata": {
  "kernelspec": {
   "display_name": "Python 3",
   "language": "python",
   "name": "python3"
  },
  "language_info": {
   "codemirror_mode": {
    "name": "ipython",
    "version": 3
   },
   "file_extension": ".py",
   "mimetype": "text/x-python",
   "name": "python",
   "nbconvert_exporter": "python",
   "pygments_lexer": "ipython3",
   "version": "3.7.12"
  },
  "papermill": {
   "default_parameters": {},
   "duration": 36.412098,
   "end_time": "2022-03-23T16:16:47.471326",
   "environment_variables": {},
   "exception": null,
   "input_path": "__notebook__.ipynb",
   "output_path": "__notebook__.ipynb",
   "parameters": {},
   "start_time": "2022-03-23T16:16:11.059228",
   "version": "2.3.3"
  }
 },
 "nbformat": 4,
 "nbformat_minor": 5
}
